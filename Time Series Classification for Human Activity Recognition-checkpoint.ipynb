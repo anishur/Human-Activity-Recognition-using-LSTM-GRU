{
 "cells": [
  {
   "cell_type": "code",
   "execution_count": null,
   "id": "030a7f52-d3e9-4d59-89cd-3faf07ffa489",
   "metadata": {},
   "outputs": [],
   "source": [
    "# Load Human Activity Recognition Data\n",
    "# Build LSTM Model for Classification\n",
    "# Evaluate the Model"
   ]
  },
  {
   "cell_type": "code",
   "execution_count": 1,
   "id": "164a8786-eddb-433f-b496-2f278e07b58c",
   "metadata": {},
   "outputs": [],
   "source": [
    "import pandas as pd\n",
    "import numpy as np\n",
    "import re\n",
    "import matplotlib.pyplot as plt\n",
    "from tensorflow import keras \n",
    "from keras.models import Sequential\n",
    "from keras.layers import LSTM, Dense, Flatten, Dropout\n",
    "from scipy import stats\n",
    "from sklearn.preprocessing import OneHotEncoder\n",
    "from sklearn.preprocessing import RobustScaler"
   ]
  },
  {
   "cell_type": "code",
   "execution_count": 2,
   "id": "48a22590-a403-4390-ba57-4d6fc4f28f8c",
   "metadata": {},
   "outputs": [],
   "source": [
    "column_names = ['user_id','activity','timestamp','x_axis','y_axis','z_axis']"
   ]
  },
  {
   "cell_type": "code",
   "execution_count": 3,
   "id": "2a1190f7-f167-4722-bf9a-1c2bec12f74d",
   "metadata": {},
   "outputs": [],
   "source": [
    "df = pd.read_csv('WISDM_ar_v1.1_raw.txt', header=None, names=column_names)"
   ]
  },
  {
   "cell_type": "code",
   "execution_count": 4,
   "id": "9aa03e55-3d25-4dd7-a3f1-fbd939902b86",
   "metadata": {},
   "outputs": [
    {
     "data": {
      "text/html": [
       "<div>\n",
       "<style scoped>\n",
       "    .dataframe tbody tr th:only-of-type {\n",
       "        vertical-align: middle;\n",
       "    }\n",
       "\n",
       "    .dataframe tbody tr th {\n",
       "        vertical-align: top;\n",
       "    }\n",
       "\n",
       "    .dataframe thead th {\n",
       "        text-align: right;\n",
       "    }\n",
       "</style>\n",
       "<table border=\"1\" class=\"dataframe\">\n",
       "  <thead>\n",
       "    <tr style=\"text-align: right;\">\n",
       "      <th></th>\n",
       "      <th>user_id</th>\n",
       "      <th>activity</th>\n",
       "      <th>timestamp</th>\n",
       "      <th>x_axis</th>\n",
       "      <th>y_axis</th>\n",
       "      <th>z_axis</th>\n",
       "    </tr>\n",
       "  </thead>\n",
       "  <tbody>\n",
       "    <tr>\n",
       "      <th>0</th>\n",
       "      <td>33</td>\n",
       "      <td>Jogging</td>\n",
       "      <td>49105962326000</td>\n",
       "      <td>-0.694638</td>\n",
       "      <td>12.680544</td>\n",
       "      <td>0.50395286;</td>\n",
       "    </tr>\n",
       "    <tr>\n",
       "      <th>1</th>\n",
       "      <td>33</td>\n",
       "      <td>Jogging</td>\n",
       "      <td>49106062271000</td>\n",
       "      <td>5.012288</td>\n",
       "      <td>11.264028</td>\n",
       "      <td>0.95342433;</td>\n",
       "    </tr>\n",
       "    <tr>\n",
       "      <th>2</th>\n",
       "      <td>33</td>\n",
       "      <td>Jogging</td>\n",
       "      <td>49106112167000</td>\n",
       "      <td>4.903325</td>\n",
       "      <td>10.882658</td>\n",
       "      <td>-0.08172209;</td>\n",
       "    </tr>\n",
       "    <tr>\n",
       "      <th>3</th>\n",
       "      <td>33</td>\n",
       "      <td>Jogging</td>\n",
       "      <td>49106222305000</td>\n",
       "      <td>-0.612916</td>\n",
       "      <td>18.496431</td>\n",
       "      <td>3.0237172;</td>\n",
       "    </tr>\n",
       "    <tr>\n",
       "      <th>4</th>\n",
       "      <td>33</td>\n",
       "      <td>Jogging</td>\n",
       "      <td>49106332290000</td>\n",
       "      <td>-1.184970</td>\n",
       "      <td>12.108489</td>\n",
       "      <td>7.205164;</td>\n",
       "    </tr>\n",
       "    <tr>\n",
       "      <th>5</th>\n",
       "      <td>33</td>\n",
       "      <td>Jogging</td>\n",
       "      <td>49106442306000</td>\n",
       "      <td>1.375655</td>\n",
       "      <td>-2.492524</td>\n",
       "      <td>-6.510526;</td>\n",
       "    </tr>\n",
       "    <tr>\n",
       "      <th>6</th>\n",
       "      <td>33</td>\n",
       "      <td>Jogging</td>\n",
       "      <td>49106542312000</td>\n",
       "      <td>-0.612916</td>\n",
       "      <td>10.569390</td>\n",
       "      <td>5.706926;</td>\n",
       "    </tr>\n",
       "    <tr>\n",
       "      <th>7</th>\n",
       "      <td>33</td>\n",
       "      <td>Jogging</td>\n",
       "      <td>49106652389000</td>\n",
       "      <td>-0.503953</td>\n",
       "      <td>13.947236</td>\n",
       "      <td>7.0553403;</td>\n",
       "    </tr>\n",
       "    <tr>\n",
       "      <th>8</th>\n",
       "      <td>33</td>\n",
       "      <td>Jogging</td>\n",
       "      <td>49106762313000</td>\n",
       "      <td>-8.430995</td>\n",
       "      <td>11.413852</td>\n",
       "      <td>5.134871;</td>\n",
       "    </tr>\n",
       "    <tr>\n",
       "      <th>9</th>\n",
       "      <td>33</td>\n",
       "      <td>Jogging</td>\n",
       "      <td>49106872299000</td>\n",
       "      <td>0.953424</td>\n",
       "      <td>1.375655</td>\n",
       "      <td>1.6480621;</td>\n",
       "    </tr>\n",
       "    <tr>\n",
       "      <th>10</th>\n",
       "      <td>33</td>\n",
       "      <td>Jogging</td>\n",
       "      <td>49106982315000</td>\n",
       "      <td>-8.199450</td>\n",
       "      <td>19.572440</td>\n",
       "      <td>2.7240696;</td>\n",
       "    </tr>\n",
       "  </tbody>\n",
       "</table>\n",
       "</div>"
      ],
      "text/plain": [
       "    user_id activity       timestamp    x_axis     y_axis        z_axis\n",
       "0        33  Jogging  49105962326000 -0.694638  12.680544   0.50395286;\n",
       "1        33  Jogging  49106062271000  5.012288  11.264028   0.95342433;\n",
       "2        33  Jogging  49106112167000  4.903325  10.882658  -0.08172209;\n",
       "3        33  Jogging  49106222305000 -0.612916  18.496431    3.0237172;\n",
       "4        33  Jogging  49106332290000 -1.184970  12.108489     7.205164;\n",
       "5        33  Jogging  49106442306000  1.375655  -2.492524    -6.510526;\n",
       "6        33  Jogging  49106542312000 -0.612916  10.569390     5.706926;\n",
       "7        33  Jogging  49106652389000 -0.503953  13.947236    7.0553403;\n",
       "8        33  Jogging  49106762313000 -8.430995  11.413852     5.134871;\n",
       "9        33  Jogging  49106872299000  0.953424   1.375655    1.6480621;\n",
       "10       33  Jogging  49106982315000 -8.199450  19.572440    2.7240696;"
      ]
     },
     "execution_count": 4,
     "metadata": {},
     "output_type": "execute_result"
    }
   ],
   "source": [
    "df.head(11)"
   ]
  },
  {
   "cell_type": "code",
   "execution_count": 5,
   "id": "7dd54697-9342-458a-82cc-0698aa70188f",
   "metadata": {},
   "outputs": [
    {
     "data": {
      "text/plain": [
       "0           0.50395286;\n",
       "1           0.95342433;\n",
       "2          -0.08172209;\n",
       "3            3.0237172;\n",
       "4             7.205164;\n",
       "               ...     \n",
       "1098199           1.69;\n",
       "1098200           1.73;\n",
       "1098201           1.69;\n",
       "1098202           1.73;\n",
       "1098203           1.61;\n",
       "Name: z_axis, Length: 1098204, dtype: object"
      ]
     },
     "execution_count": 5,
     "metadata": {},
     "output_type": "execute_result"
    }
   ],
   "source": [
    "df['z_axis']"
   ]
  },
  {
   "cell_type": "code",
   "execution_count": 6,
   "id": "d4569bf3-b977-4589-8c68-0d68b771eba2",
   "metadata": {},
   "outputs": [],
   "source": [
    "# remove ; sign end of the column\n",
    "df['z_axis'] = df['z_axis'].replace(';','',regex=True)"
   ]
  },
  {
   "cell_type": "code",
   "execution_count": 7,
   "id": "16a729af-c52c-4c9b-949d-6bccbe9019f6",
   "metadata": {},
   "outputs": [
    {
     "data": {
      "text/plain": [
       "0           0.50395286\n",
       "1           0.95342433\n",
       "2          -0.08172209\n",
       "3            3.0237172\n",
       "4             7.205164\n",
       "              ...     \n",
       "1098199           1.69\n",
       "1098200           1.73\n",
       "1098201           1.69\n",
       "1098202           1.73\n",
       "1098203           1.61\n",
       "Name: z_axis, Length: 1098204, dtype: object"
      ]
     },
     "execution_count": 7,
     "metadata": {},
     "output_type": "execute_result"
    }
   ],
   "source": [
    "df['z_axis']"
   ]
  },
  {
   "cell_type": "code",
   "execution_count": 8,
   "id": "dbe338cf-431c-4e43-8290-33169f2904a2",
   "metadata": {},
   "outputs": [
    {
     "data": {
      "text/html": [
       "<div>\n",
       "<style scoped>\n",
       "    .dataframe tbody tr th:only-of-type {\n",
       "        vertical-align: middle;\n",
       "    }\n",
       "\n",
       "    .dataframe tbody tr th {\n",
       "        vertical-align: top;\n",
       "    }\n",
       "\n",
       "    .dataframe thead th {\n",
       "        text-align: right;\n",
       "    }\n",
       "</style>\n",
       "<table border=\"1\" class=\"dataframe\">\n",
       "  <thead>\n",
       "    <tr style=\"text-align: right;\">\n",
       "      <th></th>\n",
       "      <th>user_id</th>\n",
       "      <th>activity</th>\n",
       "      <th>timestamp</th>\n",
       "      <th>x_axis</th>\n",
       "      <th>y_axis</th>\n",
       "      <th>z_axis</th>\n",
       "    </tr>\n",
       "  </thead>\n",
       "  <tbody>\n",
       "    <tr>\n",
       "      <th>0</th>\n",
       "      <td>33</td>\n",
       "      <td>Jogging</td>\n",
       "      <td>49105962326000</td>\n",
       "      <td>-0.694638</td>\n",
       "      <td>12.680544</td>\n",
       "      <td>0.50395286</td>\n",
       "    </tr>\n",
       "    <tr>\n",
       "      <th>1</th>\n",
       "      <td>33</td>\n",
       "      <td>Jogging</td>\n",
       "      <td>49106062271000</td>\n",
       "      <td>5.012288</td>\n",
       "      <td>11.264028</td>\n",
       "      <td>0.95342433</td>\n",
       "    </tr>\n",
       "    <tr>\n",
       "      <th>2</th>\n",
       "      <td>33</td>\n",
       "      <td>Jogging</td>\n",
       "      <td>49106112167000</td>\n",
       "      <td>4.903325</td>\n",
       "      <td>10.882658</td>\n",
       "      <td>-0.08172209</td>\n",
       "    </tr>\n",
       "    <tr>\n",
       "      <th>3</th>\n",
       "      <td>33</td>\n",
       "      <td>Jogging</td>\n",
       "      <td>49106222305000</td>\n",
       "      <td>-0.612916</td>\n",
       "      <td>18.496431</td>\n",
       "      <td>3.0237172</td>\n",
       "    </tr>\n",
       "    <tr>\n",
       "      <th>4</th>\n",
       "      <td>33</td>\n",
       "      <td>Jogging</td>\n",
       "      <td>49106332290000</td>\n",
       "      <td>-1.184970</td>\n",
       "      <td>12.108489</td>\n",
       "      <td>7.205164</td>\n",
       "    </tr>\n",
       "    <tr>\n",
       "      <th>...</th>\n",
       "      <td>...</td>\n",
       "      <td>...</td>\n",
       "      <td>...</td>\n",
       "      <td>...</td>\n",
       "      <td>...</td>\n",
       "      <td>...</td>\n",
       "    </tr>\n",
       "    <tr>\n",
       "      <th>1098199</th>\n",
       "      <td>19</td>\n",
       "      <td>Sitting</td>\n",
       "      <td>131623331483000</td>\n",
       "      <td>9.000000</td>\n",
       "      <td>-1.570000</td>\n",
       "      <td>1.69</td>\n",
       "    </tr>\n",
       "    <tr>\n",
       "      <th>1098200</th>\n",
       "      <td>19</td>\n",
       "      <td>Sitting</td>\n",
       "      <td>131623371431000</td>\n",
       "      <td>9.040000</td>\n",
       "      <td>-1.460000</td>\n",
       "      <td>1.73</td>\n",
       "    </tr>\n",
       "    <tr>\n",
       "      <th>1098201</th>\n",
       "      <td>19</td>\n",
       "      <td>Sitting</td>\n",
       "      <td>131623411592000</td>\n",
       "      <td>9.080000</td>\n",
       "      <td>-1.380000</td>\n",
       "      <td>1.69</td>\n",
       "    </tr>\n",
       "    <tr>\n",
       "      <th>1098202</th>\n",
       "      <td>19</td>\n",
       "      <td>Sitting</td>\n",
       "      <td>131623491487000</td>\n",
       "      <td>9.000000</td>\n",
       "      <td>-1.460000</td>\n",
       "      <td>1.73</td>\n",
       "    </tr>\n",
       "    <tr>\n",
       "      <th>1098203</th>\n",
       "      <td>19</td>\n",
       "      <td>Sitting</td>\n",
       "      <td>131623531465000</td>\n",
       "      <td>8.880000</td>\n",
       "      <td>-1.330000</td>\n",
       "      <td>1.61</td>\n",
       "    </tr>\n",
       "  </tbody>\n",
       "</table>\n",
       "<p>1098204 rows × 6 columns</p>\n",
       "</div>"
      ],
      "text/plain": [
       "         user_id activity        timestamp    x_axis     y_axis       z_axis\n",
       "0             33  Jogging   49105962326000 -0.694638  12.680544   0.50395286\n",
       "1             33  Jogging   49106062271000  5.012288  11.264028   0.95342433\n",
       "2             33  Jogging   49106112167000  4.903325  10.882658  -0.08172209\n",
       "3             33  Jogging   49106222305000 -0.612916  18.496431    3.0237172\n",
       "4             33  Jogging   49106332290000 -1.184970  12.108489     7.205164\n",
       "...          ...      ...              ...       ...        ...          ...\n",
       "1098199       19  Sitting  131623331483000  9.000000  -1.570000         1.69\n",
       "1098200       19  Sitting  131623371431000  9.040000  -1.460000         1.73\n",
       "1098201       19  Sitting  131623411592000  9.080000  -1.380000         1.69\n",
       "1098202       19  Sitting  131623491487000  9.000000  -1.460000         1.73\n",
       "1098203       19  Sitting  131623531465000  8.880000  -1.330000         1.61\n",
       "\n",
       "[1098204 rows x 6 columns]"
      ]
     },
     "execution_count": 8,
     "metadata": {},
     "output_type": "execute_result"
    }
   ],
   "source": [
    "df"
   ]
  },
  {
   "cell_type": "code",
   "execution_count": 9,
   "id": "e21d577a-27c1-4f4c-bb8b-5a1574230779",
   "metadata": {},
   "outputs": [
    {
     "data": {
      "text/plain": [
       "(1098204, 6)"
      ]
     },
     "execution_count": 9,
     "metadata": {},
     "output_type": "execute_result"
    }
   ],
   "source": [
    "df.shape"
   ]
  },
  {
   "cell_type": "code",
   "execution_count": 10,
   "id": "52d8aace-2099-4c08-a55d-c94484074976",
   "metadata": {},
   "outputs": [
    {
     "data": {
      "text/plain": [
       "1098204"
      ]
     },
     "execution_count": 10,
     "metadata": {},
     "output_type": "execute_result"
    }
   ],
   "source": [
    "len(df)"
   ]
  },
  {
   "cell_type": "code",
   "execution_count": 11,
   "id": "b46ccfa2-26b0-4355-b3dd-31297b2faf61",
   "metadata": {},
   "outputs": [],
   "source": [
    "# data contain the following features such as\n",
    "# user_id : unique identifier of the user doing the activity\n",
    "# activity : the category of user activity\n",
    "# x_axis, y_axis, z_axis : accelerometer data for each axis"
   ]
  },
  {
   "cell_type": "code",
   "execution_count": 12,
   "id": "83d09594-1bb7-4d4b-be46-f4bc38a80539",
   "metadata": {},
   "outputs": [],
   "source": [
    "df['activity'] = pd.DataFrame(df['activity'])"
   ]
  },
  {
   "cell_type": "code",
   "execution_count": 13,
   "id": "d50a6fd4-912f-4ba8-ae77-d75a82dc61ec",
   "metadata": {},
   "outputs": [
    {
     "data": {
      "image/png": "[encoded data removed]",
      "text/plain": [
       "<Figure size 1008x576 with 1 Axes>"
      ]
     },
     "metadata": {
      "needs_background": "light"
     },
     "output_type": "display_data"
    }
   ],
   "source": [
    "ax = df.groupby(['activity'])['activity'].count().plot.bar(title=\"Human Activity Recognition\", ylabel='Counts: number of times an activity occurs',figsize=(14,8))"
   ]
  },
  {
   "cell_type": "code",
   "execution_count": 14,
   "id": "68a434fe-5bb5-4623-9623-60031e259471",
   "metadata": {},
   "outputs": [
    {
     "data": {
      "image/png": "[encoded data removed]",
      "text/plain": [
       "<Figure size 1008x576 with 1 Axes>"
      ]
     },
     "metadata": {
      "needs_background": "light"
     },
     "output_type": "display_data"
    }
   ],
   "source": [
    "ax = df.groupby(['user_id'])['user_id'].count().plot.bar(title=\"Human Activity Recognition\", ylabel='Counts: per user_id activity occurs',figsize=(14,8))"
   ]
  },
  {
   "cell_type": "code",
   "execution_count": 15,
   "id": "5274ea01-0576-43a7-98d9-b4822a009498",
   "metadata": {},
   "outputs": [],
   "source": [
    "#gb = df.groupby('ZZ')    \n",
    "#[gb.get_group(x) for x in gb.groups]"
   ]
  },
  {
   "cell_type": "code",
   "execution_count": 16,
   "id": "b04aadcc-f498-4813-adc4-68ac7ae68d51",
   "metadata": {},
   "outputs": [],
   "source": [
    "#df_groups = df.groupby('activity')\n",
    "#df_groups = [df_groups.get_group(x) for x in df_groups.groups]"
   ]
  },
  {
   "cell_type": "raw",
   "id": "026804b2-2185-42dc-9326-6a4be37864ba",
   "metadata": {},
   "source": [
    "print(y_pred)"
   ]
  },
  {
   "cell_type": "raw",
   "id": "60450fa2-5a17-4829-9ce5-f5e7e0fc3519",
   "metadata": {},
   "source": [
    "print(y_pred)"
   ]
  },
  {
   "cell_type": "raw",
   "id": "e141b667-220a-4ca3-84eb-6b49239c9f0a",
   "metadata": {},
   "source": [
    "print(y_pred)"
   ]
  },
  {
   "cell_type": "raw",
   "id": "b4eb61d1-3cc3-4e13-8705-a3f18d34afb6",
   "metadata": {},
   "source": [
    "print(y_pred)"
   ]
  },
  {
   "cell_type": "code",
   "execution_count": 17,
   "id": "db68e6a5-4200-45f7-a0f6-6f3b83c43971",
   "metadata": {},
   "outputs": [],
   "source": [
    "#df_groups"
   ]
  },
  {
   "cell_type": "code",
   "execution_count": 18,
   "id": "071df287-3b62-45c8-a732-49da5424c6cf",
   "metadata": {},
   "outputs": [],
   "source": [
    "#d = dict(tuple(df.groupby('ZZ')))\n",
    "#d[6]"
   ]
  },
  {
   "cell_type": "code",
   "execution_count": 19,
   "id": "6a30acb7-c7a6-4801-ae94-d42d82588a07",
   "metadata": {},
   "outputs": [],
   "source": [
    "df_groups = dict(tuple(df.groupby('activity')))"
   ]
  },
  {
   "cell_type": "code",
   "execution_count": 20,
   "id": "3bc1d9f9-dae2-4257-a9a1-ab705eb8a19d",
   "metadata": {},
   "outputs": [
    {
     "data": {
      "text/html": [
       "<div>\n",
       "<style scoped>\n",
       "    .dataframe tbody tr th:only-of-type {\n",
       "        vertical-align: middle;\n",
       "    }\n",
       "\n",
       "    .dataframe tbody tr th {\n",
       "        vertical-align: top;\n",
       "    }\n",
       "\n",
       "    .dataframe thead th {\n",
       "        text-align: right;\n",
       "    }\n",
       "</style>\n",
       "<table border=\"1\" class=\"dataframe\">\n",
       "  <thead>\n",
       "    <tr style=\"text-align: right;\">\n",
       "      <th></th>\n",
       "      <th>user_id</th>\n",
       "      <th>activity</th>\n",
       "      <th>timestamp</th>\n",
       "      <th>x_axis</th>\n",
       "      <th>y_axis</th>\n",
       "      <th>z_axis</th>\n",
       "    </tr>\n",
       "  </thead>\n",
       "  <tbody>\n",
       "    <tr>\n",
       "      <th>597</th>\n",
       "      <td>33</td>\n",
       "      <td>Walking</td>\n",
       "      <td>49394992294000</td>\n",
       "      <td>0.844462</td>\n",
       "      <td>8.008764</td>\n",
       "      <td>2.7921712</td>\n",
       "    </tr>\n",
       "    <tr>\n",
       "      <th>598</th>\n",
       "      <td>33</td>\n",
       "      <td>Walking</td>\n",
       "      <td>49395102310000</td>\n",
       "      <td>1.116869</td>\n",
       "      <td>8.621680</td>\n",
       "      <td>3.7864566</td>\n",
       "    </tr>\n",
       "    <tr>\n",
       "      <th>599</th>\n",
       "      <td>33</td>\n",
       "      <td>Walking</td>\n",
       "      <td>49395202316000</td>\n",
       "      <td>-0.503953</td>\n",
       "      <td>16.657684</td>\n",
       "      <td>1.3075534</td>\n",
       "    </tr>\n",
       "    <tr>\n",
       "      <th>600</th>\n",
       "      <td>33</td>\n",
       "      <td>Walking</td>\n",
       "      <td>49395302292000</td>\n",
       "      <td>4.794363</td>\n",
       "      <td>10.760075</td>\n",
       "      <td>-1.1849703</td>\n",
       "    </tr>\n",
       "    <tr>\n",
       "      <th>601</th>\n",
       "      <td>33</td>\n",
       "      <td>Walking</td>\n",
       "      <td>49395412338000</td>\n",
       "      <td>-0.040861</td>\n",
       "      <td>9.234595</td>\n",
       "      <td>-0.6946377</td>\n",
       "    </tr>\n",
       "    <tr>\n",
       "      <th>...</th>\n",
       "      <td>...</td>\n",
       "      <td>...</td>\n",
       "      <td>...</td>\n",
       "      <td>...</td>\n",
       "      <td>...</td>\n",
       "      <td>...</td>\n",
       "    </tr>\n",
       "    <tr>\n",
       "      <th>1086639</th>\n",
       "      <td>19</td>\n",
       "      <td>Walking</td>\n",
       "      <td>130762191438000</td>\n",
       "      <td>-5.940000</td>\n",
       "      <td>9.380000</td>\n",
       "      <td>7.12</td>\n",
       "    </tr>\n",
       "    <tr>\n",
       "      <th>1086640</th>\n",
       "      <td>19</td>\n",
       "      <td>Walking</td>\n",
       "      <td>130762231477000</td>\n",
       "      <td>-6.130000</td>\n",
       "      <td>7.250000</td>\n",
       "      <td>7.86</td>\n",
       "    </tr>\n",
       "    <tr>\n",
       "      <th>1086641</th>\n",
       "      <td>19</td>\n",
       "      <td>Walking</td>\n",
       "      <td>130762271638000</td>\n",
       "      <td>-3.790000</td>\n",
       "      <td>5.860000</td>\n",
       "      <td>8.08</td>\n",
       "    </tr>\n",
       "    <tr>\n",
       "      <th>1086642</th>\n",
       "      <td>19</td>\n",
       "      <td>Walking</td>\n",
       "      <td>130762311647000</td>\n",
       "      <td>-0.110000</td>\n",
       "      <td>7.550000</td>\n",
       "      <td>7.31</td>\n",
       "    </tr>\n",
       "    <tr>\n",
       "      <th>1086643</th>\n",
       "      <td>19</td>\n",
       "      <td>Walking</td>\n",
       "      <td>130762391603000</td>\n",
       "      <td>1.800000</td>\n",
       "      <td>5.520000</td>\n",
       "      <td>4.75</td>\n",
       "    </tr>\n",
       "  </tbody>\n",
       "</table>\n",
       "<p>424398 rows × 6 columns</p>\n",
       "</div>"
      ],
      "text/plain": [
       "         user_id activity        timestamp    x_axis     y_axis      z_axis\n",
       "597           33  Walking   49394992294000  0.844462   8.008764   2.7921712\n",
       "598           33  Walking   49395102310000  1.116869   8.621680   3.7864566\n",
       "599           33  Walking   49395202316000 -0.503953  16.657684   1.3075534\n",
       "600           33  Walking   49395302292000  4.794363  10.760075  -1.1849703\n",
       "601           33  Walking   49395412338000 -0.040861   9.234595  -0.6946377\n",
       "...          ...      ...              ...       ...        ...         ...\n",
       "1086639       19  Walking  130762191438000 -5.940000   9.380000        7.12\n",
       "1086640       19  Walking  130762231477000 -6.130000   7.250000        7.86\n",
       "1086641       19  Walking  130762271638000 -3.790000   5.860000        8.08\n",
       "1086642       19  Walking  130762311647000 -0.110000   7.550000        7.31\n",
       "1086643       19  Walking  130762391603000  1.800000   5.520000        4.75\n",
       "\n",
       "[424398 rows x 6 columns]"
      ]
     },
     "execution_count": 20,
     "metadata": {},
     "output_type": "execute_result"
    }
   ],
   "source": [
    "df_groups['Walking']"
   ]
  },
  {
   "cell_type": "code",
   "execution_count": 21,
   "id": "ecb8344b-ce92-49fe-b2f7-30442a11446d",
   "metadata": {},
   "outputs": [
    {
     "data": {
      "text/html": [
       "<div>\n",
       "<style scoped>\n",
       "    .dataframe tbody tr th:only-of-type {\n",
       "        vertical-align: middle;\n",
       "    }\n",
       "\n",
       "    .dataframe tbody tr th {\n",
       "        vertical-align: top;\n",
       "    }\n",
       "\n",
       "    .dataframe thead th {\n",
       "        text-align: right;\n",
       "    }\n",
       "</style>\n",
       "<table border=\"1\" class=\"dataframe\">\n",
       "  <thead>\n",
       "    <tr style=\"text-align: right;\">\n",
       "      <th></th>\n",
       "      <th>user_id</th>\n",
       "      <th>activity</th>\n",
       "      <th>timestamp</th>\n",
       "      <th>x_axis</th>\n",
       "      <th>y_axis</th>\n",
       "      <th>z_axis</th>\n",
       "    </tr>\n",
       "  </thead>\n",
       "  <tbody>\n",
       "    <tr>\n",
       "      <th>0</th>\n",
       "      <td>33</td>\n",
       "      <td>Jogging</td>\n",
       "      <td>49105962326000</td>\n",
       "      <td>-0.694638</td>\n",
       "      <td>12.680544</td>\n",
       "      <td>0.50395286</td>\n",
       "    </tr>\n",
       "    <tr>\n",
       "      <th>1</th>\n",
       "      <td>33</td>\n",
       "      <td>Jogging</td>\n",
       "      <td>49106062271000</td>\n",
       "      <td>5.012288</td>\n",
       "      <td>11.264028</td>\n",
       "      <td>0.95342433</td>\n",
       "    </tr>\n",
       "    <tr>\n",
       "      <th>2</th>\n",
       "      <td>33</td>\n",
       "      <td>Jogging</td>\n",
       "      <td>49106112167000</td>\n",
       "      <td>4.903325</td>\n",
       "      <td>10.882658</td>\n",
       "      <td>-0.08172209</td>\n",
       "    </tr>\n",
       "    <tr>\n",
       "      <th>3</th>\n",
       "      <td>33</td>\n",
       "      <td>Jogging</td>\n",
       "      <td>49106222305000</td>\n",
       "      <td>-0.612916</td>\n",
       "      <td>18.496431</td>\n",
       "      <td>3.0237172</td>\n",
       "    </tr>\n",
       "    <tr>\n",
       "      <th>4</th>\n",
       "      <td>33</td>\n",
       "      <td>Jogging</td>\n",
       "      <td>49106332290000</td>\n",
       "      <td>-1.184970</td>\n",
       "      <td>12.108489</td>\n",
       "      <td>7.205164</td>\n",
       "    </tr>\n",
       "    <tr>\n",
       "      <th>...</th>\n",
       "      <td>...</td>\n",
       "      <td>...</td>\n",
       "      <td>...</td>\n",
       "      <td>...</td>\n",
       "      <td>...</td>\n",
       "      <td>...</td>\n",
       "    </tr>\n",
       "    <tr>\n",
       "      <th>1080754</th>\n",
       "      <td>19</td>\n",
       "      <td>Jogging</td>\n",
       "      <td>130447441469000</td>\n",
       "      <td>-7.010000</td>\n",
       "      <td>-10.530000</td>\n",
       "      <td>0.57</td>\n",
       "    </tr>\n",
       "    <tr>\n",
       "      <th>1080755</th>\n",
       "      <td>19</td>\n",
       "      <td>Jogging</td>\n",
       "      <td>130447481508000</td>\n",
       "      <td>-6.360000</td>\n",
       "      <td>-3.910000</td>\n",
       "      <td>-0.42</td>\n",
       "    </tr>\n",
       "    <tr>\n",
       "      <th>1080756</th>\n",
       "      <td>19</td>\n",
       "      <td>Jogging</td>\n",
       "      <td>130447521547000</td>\n",
       "      <td>-11.260000</td>\n",
       "      <td>3.020000</td>\n",
       "      <td>1.57</td>\n",
       "    </tr>\n",
       "    <tr>\n",
       "      <th>1080757</th>\n",
       "      <td>19</td>\n",
       "      <td>Jogging</td>\n",
       "      <td>130447561678000</td>\n",
       "      <td>-17.540000</td>\n",
       "      <td>4.670000</td>\n",
       "      <td>3.98</td>\n",
       "    </tr>\n",
       "    <tr>\n",
       "      <th>1080758</th>\n",
       "      <td>19</td>\n",
       "      <td>Jogging</td>\n",
       "      <td>130447632570000</td>\n",
       "      <td>-11.260000</td>\n",
       "      <td>-0.500000</td>\n",
       "      <td>7.4</td>\n",
       "    </tr>\n",
       "  </tbody>\n",
       "</table>\n",
       "<p>342176 rows × 6 columns</p>\n",
       "</div>"
      ],
      "text/plain": [
       "         user_id activity        timestamp     x_axis     y_axis       z_axis\n",
       "0             33  Jogging   49105962326000  -0.694638  12.680544   0.50395286\n",
       "1             33  Jogging   49106062271000   5.012288  11.264028   0.95342433\n",
       "2             33  Jogging   49106112167000   4.903325  10.882658  -0.08172209\n",
       "3             33  Jogging   49106222305000  -0.612916  18.496431    3.0237172\n",
       "4             33  Jogging   49106332290000  -1.184970  12.108489     7.205164\n",
       "...          ...      ...              ...        ...        ...          ...\n",
       "1080754       19  Jogging  130447441469000  -7.010000 -10.530000         0.57\n",
       "1080755       19  Jogging  130447481508000  -6.360000  -3.910000        -0.42\n",
       "1080756       19  Jogging  130447521547000 -11.260000   3.020000         1.57\n",
       "1080757       19  Jogging  130447561678000 -17.540000   4.670000         3.98\n",
       "1080758       19  Jogging  130447632570000 -11.260000  -0.500000          7.4\n",
       "\n",
       "[342176 rows x 6 columns]"
      ]
     },
     "execution_count": 21,
     "metadata": {},
     "output_type": "execute_result"
    }
   ],
   "source": [
    "df_groups['Jogging']"
   ]
  },
  {
   "cell_type": "code",
   "execution_count": 22,
   "id": "6e6d7b2b-a143-4914-a33c-bb911d8a1e2a",
   "metadata": {},
   "outputs": [
    {
     "data": {
      "text/html": [
       "<div>\n",
       "<style scoped>\n",
       "    .dataframe tbody tr th:only-of-type {\n",
       "        vertical-align: middle;\n",
       "    }\n",
       "\n",
       "    .dataframe tbody tr th {\n",
       "        vertical-align: top;\n",
       "    }\n",
       "\n",
       "    .dataframe thead th {\n",
       "        text-align: right;\n",
       "    }\n",
       "</style>\n",
       "<table border=\"1\" class=\"dataframe\">\n",
       "  <thead>\n",
       "    <tr style=\"text-align: right;\">\n",
       "      <th></th>\n",
       "      <th>user_id</th>\n",
       "      <th>activity</th>\n",
       "      <th>timestamp</th>\n",
       "      <th>x_axis</th>\n",
       "      <th>y_axis</th>\n",
       "      <th>z_axis</th>\n",
       "    </tr>\n",
       "  </thead>\n",
       "  <tbody>\n",
       "    <tr>\n",
       "      <th>1769</th>\n",
       "      <td>33</td>\n",
       "      <td>Downstairs</td>\n",
       "      <td>49646322311000</td>\n",
       "      <td>-0.040861</td>\n",
       "      <td>4.985047</td>\n",
       "      <td>6.510526</td>\n",
       "    </tr>\n",
       "    <tr>\n",
       "      <th>1770</th>\n",
       "      <td>33</td>\n",
       "      <td>Downstairs</td>\n",
       "      <td>49646422317000</td>\n",
       "      <td>-0.463092</td>\n",
       "      <td>4.372132</td>\n",
       "      <td>7.43671</td>\n",
       "    </tr>\n",
       "    <tr>\n",
       "      <th>1771</th>\n",
       "      <td>33</td>\n",
       "      <td>Downstairs</td>\n",
       "      <td>49646522323000</td>\n",
       "      <td>-0.299648</td>\n",
       "      <td>4.603678</td>\n",
       "      <td>6.510526</td>\n",
       "    </tr>\n",
       "    <tr>\n",
       "      <th>1772</th>\n",
       "      <td>33</td>\n",
       "      <td>Downstairs</td>\n",
       "      <td>49646572281000</td>\n",
       "      <td>-0.272407</td>\n",
       "      <td>4.481094</td>\n",
       "      <td>6.3607025</td>\n",
       "    </tr>\n",
       "    <tr>\n",
       "      <th>1773</th>\n",
       "      <td>33</td>\n",
       "      <td>Downstairs</td>\n",
       "      <td>49646672317000</td>\n",
       "      <td>-1.525479</td>\n",
       "      <td>5.175732</td>\n",
       "      <td>7.164303</td>\n",
       "    </tr>\n",
       "    <tr>\n",
       "      <th>...</th>\n",
       "      <td>...</td>\n",
       "      <td>...</td>\n",
       "      <td>...</td>\n",
       "      <td>...</td>\n",
       "      <td>...</td>\n",
       "      <td>...</td>\n",
       "    </tr>\n",
       "    <tr>\n",
       "      <th>1093533</th>\n",
       "      <td>19</td>\n",
       "      <td>Downstairs</td>\n",
       "      <td>131357151521000</td>\n",
       "      <td>-4.140000</td>\n",
       "      <td>7.930000</td>\n",
       "      <td>2.75</td>\n",
       "    </tr>\n",
       "    <tr>\n",
       "      <th>1093534</th>\n",
       "      <td>19</td>\n",
       "      <td>Downstairs</td>\n",
       "      <td>131357191438000</td>\n",
       "      <td>-7.010000</td>\n",
       "      <td>9.430000</td>\n",
       "      <td>0.91</td>\n",
       "    </tr>\n",
       "    <tr>\n",
       "      <th>1093535</th>\n",
       "      <td>19</td>\n",
       "      <td>Downstairs</td>\n",
       "      <td>131357231630000</td>\n",
       "      <td>-8.850000</td>\n",
       "      <td>14.330000</td>\n",
       "      <td>0.3</td>\n",
       "    </tr>\n",
       "    <tr>\n",
       "      <th>1093536</th>\n",
       "      <td>19</td>\n",
       "      <td>Downstairs</td>\n",
       "      <td>131357271516000</td>\n",
       "      <td>-7.590000</td>\n",
       "      <td>8.310000</td>\n",
       "      <td>-2.76</td>\n",
       "    </tr>\n",
       "    <tr>\n",
       "      <th>1093537</th>\n",
       "      <td>19</td>\n",
       "      <td>Downstairs</td>\n",
       "      <td>131357351686000</td>\n",
       "      <td>-6.930000</td>\n",
       "      <td>3.640000</td>\n",
       "      <td>-0.76</td>\n",
       "    </tr>\n",
       "  </tbody>\n",
       "</table>\n",
       "<p>100427 rows × 6 columns</p>\n",
       "</div>"
      ],
      "text/plain": [
       "         user_id    activity        timestamp    x_axis     y_axis     z_axis\n",
       "1769          33  Downstairs   49646322311000 -0.040861   4.985047   6.510526\n",
       "1770          33  Downstairs   49646422317000 -0.463092   4.372132    7.43671\n",
       "1771          33  Downstairs   49646522323000 -0.299648   4.603678   6.510526\n",
       "1772          33  Downstairs   49646572281000 -0.272407   4.481094  6.3607025\n",
       "1773          33  Downstairs   49646672317000 -1.525479   5.175732   7.164303\n",
       "...          ...         ...              ...       ...        ...        ...\n",
       "1093533       19  Downstairs  131357151521000 -4.140000   7.930000       2.75\n",
       "1093534       19  Downstairs  131357191438000 -7.010000   9.430000       0.91\n",
       "1093535       19  Downstairs  131357231630000 -8.850000  14.330000        0.3\n",
       "1093536       19  Downstairs  131357271516000 -7.590000   8.310000      -2.76\n",
       "1093537       19  Downstairs  131357351686000 -6.930000   3.640000      -0.76\n",
       "\n",
       "[100427 rows x 6 columns]"
      ]
     },
     "execution_count": 22,
     "metadata": {},
     "output_type": "execute_result"
    }
   ],
   "source": [
    "df_groups['Downstairs']"
   ]
  },
  {
   "cell_type": "code",
   "execution_count": 23,
   "id": "d727b6b1-c825-4b2b-8bf6-705b448215fd",
   "metadata": {},
   "outputs": [
    {
     "data": {
      "text/html": [
       "<div>\n",
       "<style scoped>\n",
       "    .dataframe tbody tr th:only-of-type {\n",
       "        vertical-align: middle;\n",
       "    }\n",
       "\n",
       "    .dataframe tbody tr th {\n",
       "        vertical-align: top;\n",
       "    }\n",
       "\n",
       "    .dataframe thead th {\n",
       "        text-align: right;\n",
       "    }\n",
       "</style>\n",
       "<table border=\"1\" class=\"dataframe\">\n",
       "  <thead>\n",
       "    <tr style=\"text-align: right;\">\n",
       "      <th></th>\n",
       "      <th>user_id</th>\n",
       "      <th>activity</th>\n",
       "      <th>timestamp</th>\n",
       "      <th>x_axis</th>\n",
       "      <th>y_axis</th>\n",
       "      <th>z_axis</th>\n",
       "    </tr>\n",
       "  </thead>\n",
       "  <tbody>\n",
       "    <tr>\n",
       "      <th>1161</th>\n",
       "      <td>33</td>\n",
       "      <td>Upstairs</td>\n",
       "      <td>49560572311000</td>\n",
       "      <td>10.119919</td>\n",
       "      <td>4.331271</td>\n",
       "      <td>-3.7864566</td>\n",
       "    </tr>\n",
       "    <tr>\n",
       "      <th>1162</th>\n",
       "      <td>33</td>\n",
       "      <td>Upstairs</td>\n",
       "      <td>49560682449000</td>\n",
       "      <td>4.862464</td>\n",
       "      <td>3.909040</td>\n",
       "      <td>-2.7921712</td>\n",
       "    </tr>\n",
       "    <tr>\n",
       "      <th>1163</th>\n",
       "      <td>33</td>\n",
       "      <td>Upstairs</td>\n",
       "      <td>49560782303000</td>\n",
       "      <td>9.466142</td>\n",
       "      <td>13.402422</td>\n",
       "      <td>-3.8273177</td>\n",
       "    </tr>\n",
       "    <tr>\n",
       "      <th>1164</th>\n",
       "      <td>33</td>\n",
       "      <td>Upstairs</td>\n",
       "      <td>49560842209000</td>\n",
       "      <td>5.747787</td>\n",
       "      <td>7.627395</td>\n",
       "      <td>-3.1463003</td>\n",
       "    </tr>\n",
       "    <tr>\n",
       "      <th>1165</th>\n",
       "      <td>33</td>\n",
       "      <td>Upstairs</td>\n",
       "      <td>49560942184000</td>\n",
       "      <td>2.301839</td>\n",
       "      <td>8.921328</td>\n",
       "      <td>-3.0237172</td>\n",
       "    </tr>\n",
       "    <tr>\n",
       "      <th>...</th>\n",
       "      <td>...</td>\n",
       "      <td>...</td>\n",
       "      <td>...</td>\n",
       "      <td>...</td>\n",
       "      <td>...</td>\n",
       "      <td>...</td>\n",
       "    </tr>\n",
       "    <tr>\n",
       "      <th>1092913</th>\n",
       "      <td>19</td>\n",
       "      <td>Upstairs</td>\n",
       "      <td>131315561678000</td>\n",
       "      <td>11.260000</td>\n",
       "      <td>3.110000</td>\n",
       "      <td>-1.65</td>\n",
       "    </tr>\n",
       "    <tr>\n",
       "      <th>1092914</th>\n",
       "      <td>19</td>\n",
       "      <td>Upstairs</td>\n",
       "      <td>131315641481000</td>\n",
       "      <td>14.210000</td>\n",
       "      <td>3.300000</td>\n",
       "      <td>-1.92</td>\n",
       "    </tr>\n",
       "    <tr>\n",
       "      <th>1092915</th>\n",
       "      <td>19</td>\n",
       "      <td>Upstairs</td>\n",
       "      <td>131315681612000</td>\n",
       "      <td>16.550000</td>\n",
       "      <td>4.670000</td>\n",
       "      <td>-0.61</td>\n",
       "    </tr>\n",
       "    <tr>\n",
       "      <th>1092916</th>\n",
       "      <td>19</td>\n",
       "      <td>Upstairs</td>\n",
       "      <td>131315721468000</td>\n",
       "      <td>15.850000</td>\n",
       "      <td>1.730000</td>\n",
       "      <td>1.12</td>\n",
       "    </tr>\n",
       "    <tr>\n",
       "      <th>1092917</th>\n",
       "      <td>19</td>\n",
       "      <td>Upstairs</td>\n",
       "      <td>131315761507000</td>\n",
       "      <td>12.910000</td>\n",
       "      <td>4.400000</td>\n",
       "      <td>-1.5</td>\n",
       "    </tr>\n",
       "  </tbody>\n",
       "</table>\n",
       "<p>122869 rows × 6 columns</p>\n",
       "</div>"
      ],
      "text/plain": [
       "         user_id  activity        timestamp     x_axis     y_axis      z_axis\n",
       "1161          33  Upstairs   49560572311000  10.119919   4.331271  -3.7864566\n",
       "1162          33  Upstairs   49560682449000   4.862464   3.909040  -2.7921712\n",
       "1163          33  Upstairs   49560782303000   9.466142  13.402422  -3.8273177\n",
       "1164          33  Upstairs   49560842209000   5.747787   7.627395  -3.1463003\n",
       "1165          33  Upstairs   49560942184000   2.301839   8.921328  -3.0237172\n",
       "...          ...       ...              ...        ...        ...         ...\n",
       "1092913       19  Upstairs  131315561678000  11.260000   3.110000       -1.65\n",
       "1092914       19  Upstairs  131315641481000  14.210000   3.300000       -1.92\n",
       "1092915       19  Upstairs  131315681612000  16.550000   4.670000       -0.61\n",
       "1092916       19  Upstairs  131315721468000  15.850000   1.730000        1.12\n",
       "1092917       19  Upstairs  131315761507000  12.910000   4.400000        -1.5\n",
       "\n",
       "[122869 rows x 6 columns]"
      ]
     },
     "execution_count": 23,
     "metadata": {},
     "output_type": "execute_result"
    }
   ],
   "source": [
    "df_groups['Upstairs']"
   ]
  },
  {
   "cell_type": "code",
   "execution_count": 24,
   "id": "00b12c52-bb2e-48d7-91dd-343cd565eaeb",
   "metadata": {},
   "outputs": [
    {
     "data": {
      "text/html": [
       "<div>\n",
       "<style scoped>\n",
       "    .dataframe tbody tr th:only-of-type {\n",
       "        vertical-align: middle;\n",
       "    }\n",
       "\n",
       "    .dataframe tbody tr th {\n",
       "        vertical-align: top;\n",
       "    }\n",
       "\n",
       "    .dataframe thead th {\n",
       "        text-align: right;\n",
       "    }\n",
       "</style>\n",
       "<table border=\"1\" class=\"dataframe\">\n",
       "  <thead>\n",
       "    <tr style=\"text-align: right;\">\n",
       "      <th></th>\n",
       "      <th>user_id</th>\n",
       "      <th>activity</th>\n",
       "      <th>timestamp</th>\n",
       "      <th>x_axis</th>\n",
       "      <th>y_axis</th>\n",
       "      <th>z_axis</th>\n",
       "    </tr>\n",
       "  </thead>\n",
       "  <tbody>\n",
       "    <tr>\n",
       "      <th>221333</th>\n",
       "      <td>27</td>\n",
       "      <td>Sitting</td>\n",
       "      <td>12363992261000</td>\n",
       "      <td>2.60</td>\n",
       "      <td>9.66</td>\n",
       "      <td>1.0351465</td>\n",
       "    </tr>\n",
       "    <tr>\n",
       "      <th>221334</th>\n",
       "      <td>27</td>\n",
       "      <td>Sitting</td>\n",
       "      <td>12364042279000</td>\n",
       "      <td>2.68</td>\n",
       "      <td>9.53</td>\n",
       "      <td>0.50395286</td>\n",
       "    </tr>\n",
       "    <tr>\n",
       "      <th>221335</th>\n",
       "      <td>27</td>\n",
       "      <td>Sitting</td>\n",
       "      <td>12364092267000</td>\n",
       "      <td>3.49</td>\n",
       "      <td>8.89</td>\n",
       "      <td>0.7627395</td>\n",
       "    </tr>\n",
       "    <tr>\n",
       "      <th>221336</th>\n",
       "      <td>27</td>\n",
       "      <td>Sitting</td>\n",
       "      <td>12364142316000</td>\n",
       "      <td>3.64</td>\n",
       "      <td>9.38</td>\n",
       "      <td>0.92618364</td>\n",
       "    </tr>\n",
       "    <tr>\n",
       "      <th>221337</th>\n",
       "      <td>27</td>\n",
       "      <td>Sitting</td>\n",
       "      <td>12364192273000</td>\n",
       "      <td>2.91</td>\n",
       "      <td>9.34</td>\n",
       "      <td>1.0351465</td>\n",
       "    </tr>\n",
       "    <tr>\n",
       "      <th>...</th>\n",
       "      <td>...</td>\n",
       "      <td>...</td>\n",
       "      <td>...</td>\n",
       "      <td>...</td>\n",
       "      <td>...</td>\n",
       "      <td>...</td>\n",
       "    </tr>\n",
       "    <tr>\n",
       "      <th>1098199</th>\n",
       "      <td>19</td>\n",
       "      <td>Sitting</td>\n",
       "      <td>131623331483000</td>\n",
       "      <td>9.00</td>\n",
       "      <td>-1.57</td>\n",
       "      <td>1.69</td>\n",
       "    </tr>\n",
       "    <tr>\n",
       "      <th>1098200</th>\n",
       "      <td>19</td>\n",
       "      <td>Sitting</td>\n",
       "      <td>131623371431000</td>\n",
       "      <td>9.04</td>\n",
       "      <td>-1.46</td>\n",
       "      <td>1.73</td>\n",
       "    </tr>\n",
       "    <tr>\n",
       "      <th>1098201</th>\n",
       "      <td>19</td>\n",
       "      <td>Sitting</td>\n",
       "      <td>131623411592000</td>\n",
       "      <td>9.08</td>\n",
       "      <td>-1.38</td>\n",
       "      <td>1.69</td>\n",
       "    </tr>\n",
       "    <tr>\n",
       "      <th>1098202</th>\n",
       "      <td>19</td>\n",
       "      <td>Sitting</td>\n",
       "      <td>131623491487000</td>\n",
       "      <td>9.00</td>\n",
       "      <td>-1.46</td>\n",
       "      <td>1.73</td>\n",
       "    </tr>\n",
       "    <tr>\n",
       "      <th>1098203</th>\n",
       "      <td>19</td>\n",
       "      <td>Sitting</td>\n",
       "      <td>131623531465000</td>\n",
       "      <td>8.88</td>\n",
       "      <td>-1.33</td>\n",
       "      <td>1.61</td>\n",
       "    </tr>\n",
       "  </tbody>\n",
       "</table>\n",
       "<p>59939 rows × 6 columns</p>\n",
       "</div>"
      ],
      "text/plain": [
       "         user_id activity        timestamp  x_axis  y_axis      z_axis\n",
       "221333        27  Sitting   12363992261000    2.60    9.66   1.0351465\n",
       "221334        27  Sitting   12364042279000    2.68    9.53  0.50395286\n",
       "221335        27  Sitting   12364092267000    3.49    8.89   0.7627395\n",
       "221336        27  Sitting   12364142316000    3.64    9.38  0.92618364\n",
       "221337        27  Sitting   12364192273000    2.91    9.34   1.0351465\n",
       "...          ...      ...              ...     ...     ...         ...\n",
       "1098199       19  Sitting  131623331483000    9.00   -1.57        1.69\n",
       "1098200       19  Sitting  131623371431000    9.04   -1.46        1.73\n",
       "1098201       19  Sitting  131623411592000    9.08   -1.38        1.69\n",
       "1098202       19  Sitting  131623491487000    9.00   -1.46        1.73\n",
       "1098203       19  Sitting  131623531465000    8.88   -1.33        1.61\n",
       "\n",
       "[59939 rows x 6 columns]"
      ]
     },
     "execution_count": 24,
     "metadata": {},
     "output_type": "execute_result"
    }
   ],
   "source": [
    "df_groups['Sitting']"
   ]
  },
  {
   "cell_type": "code",
   "execution_count": 25,
   "id": "07d73cbd-a665-444c-8d07-49e068150256",
   "metadata": {},
   "outputs": [],
   "source": [
    "df_standing = df_groups['Standing']"
   ]
  },
  {
   "cell_type": "code",
   "execution_count": 26,
   "id": "d8f1cad8-4942-467d-bc6e-02748de549c4",
   "metadata": {},
   "outputs": [
    {
     "data": {
      "text/plain": [
       "223432      12535892255000\n",
       "223433      12535942273000\n",
       "223434      12535992231000\n",
       "223435      12536042310000\n",
       "223436      12536092206000\n",
       "                ...       \n",
       "1095665    131477821443000\n",
       "1095666    131477861513000\n",
       "1095667    131477941499000\n",
       "1095668    131477981508000\n",
       "1095669    131478021486000\n",
       "Name: timestamp, Length: 48395, dtype: int64"
      ]
     },
     "execution_count": 26,
     "metadata": {},
     "output_type": "execute_result"
    }
   ],
   "source": [
    "df_standing['timestamp']"
   ]
  },
  {
   "cell_type": "code",
   "execution_count": 27,
   "id": "ed9eecf4-771e-43eb-8c65-23a6755e2a92",
   "metadata": {},
   "outputs": [
    {
     "data": {
      "text/plain": [
       "(48395,)"
      ]
     },
     "execution_count": 27,
     "metadata": {},
     "output_type": "execute_result"
    }
   ],
   "source": [
    "df_standing['timestamp'].shape"
   ]
  },
  {
   "cell_type": "code",
   "execution_count": 28,
   "id": "586c3d4c-4bb0-4cf5-b602-70f33f882007",
   "metadata": {},
   "outputs": [],
   "source": [
    "# Split the data train and test set "
   ]
  },
  {
   "cell_type": "code",
   "execution_count": 29,
   "id": "f864661b-832e-4c23-8af8-664a977267a8",
   "metadata": {},
   "outputs": [],
   "source": [
    "df_train = df[df['user_id'] <= 25]"
   ]
  },
  {
   "cell_type": "code",
   "execution_count": 30,
   "id": "57b4f0a3-9ee8-4e81-8931-9059f9c2869e",
   "metadata": {},
   "outputs": [],
   "source": [
    "df_test =  df[df['user_id'] > 25]"
   ]
  },
  {
   "cell_type": "raw",
   "id": "4f81abb4-602b-4f08-ad98-f90ce162098c",
   "metadata": {},
   "source": [
    "print(y_pred)"
   ]
  },
  {
   "cell_type": "raw",
   "id": "9400122a-70f6-47dc-8a83-ba11b9901352",
   "metadata": {},
   "source": [
    "print(y_pred)"
   ]
  },
  {
   "cell_type": "raw",
   "id": "10a89e88-214b-4081-a93b-7cac878ec272",
   "metadata": {},
   "source": [
    "print(y_pred)"
   ]
  },
  {
   "cell_type": "raw",
   "id": "f1f60be4-9bd7-4ffd-a8d8-45286d5e9898",
   "metadata": {},
   "source": [
    "print(y_pred)"
   ]
  },
  {
   "cell_type": "raw",
   "id": "f5fde5a5-da76-434c-b00e-00e78687ec1f",
   "metadata": {},
   "source": [
    "print(y_pred)"
   ]
  },
  {
   "cell_type": "code",
   "execution_count": 31,
   "id": "4142f141-4b0d-43e6-97e0-74b441120f48",
   "metadata": {},
   "outputs": [],
   "source": [
    "# scale the dataset"
   ]
  },
  {
   "cell_type": "code",
   "execution_count": 32,
   "id": "8e00fd5e-99ea-4838-850f-94b047144dbe",
   "metadata": {},
   "outputs": [],
   "source": [
    "scale_columns = [\"x_axis\",\"y_axis\",\"z_axis\"]"
   ]
  },
  {
   "cell_type": "code",
   "execution_count": 33,
   "id": "dac9dd02-9448-4b42-8ab8-049829d8053b",
   "metadata": {},
   "outputs": [],
   "source": [
    "\n",
    "\n",
    "scaler = RobustScaler()\n",
    "scaler = scaler.fit(df_train[scale_columns])"
   ]
  },
  {
   "cell_type": "code",
   "execution_count": 34,
   "id": "4904b82f-21f0-4c1d-aee4-a42ff2231772",
   "metadata": {},
   "outputs": [
    {
     "name": "stderr",
     "output_type": "stream",
     "text": [
      "C:\\Users\\Lenovo\\anaconda3\\lib\\site-packages\\pandas\\core\\indexing.py:1738: SettingWithCopyWarning: \n",
      "A value is trying to be set on a copy of a slice from a DataFrame.\n",
      "Try using .loc[row_indexer,col_indexer] = value instead\n",
      "\n",
      "See the caveats in the documentation: https://pandas.pydata.org/pandas-docs/stable/user_guide/indexing.html#returning-a-view-versus-a-copy\n",
      "  self._setitem_single_column(loc, value[:, i].tolist(), pi)\n"
     ]
    }
   ],
   "source": [
    "df_train.loc[:, scale_columns] = scaler.transform(df_train[scale_columns].to_numpy())\n"
   ]
  },
  {
   "cell_type": "code",
   "execution_count": 35,
   "id": "a37f2e08-8843-4561-b8d8-a137d675332a",
   "metadata": {},
   "outputs": [
    {
     "name": "stderr",
     "output_type": "stream",
     "text": [
      "C:\\Users\\Lenovo\\anaconda3\\lib\\site-packages\\pandas\\core\\indexing.py:1738: SettingWithCopyWarning: \n",
      "A value is trying to be set on a copy of a slice from a DataFrame.\n",
      "Try using .loc[row_indexer,col_indexer] = value instead\n",
      "\n",
      "See the caveats in the documentation: https://pandas.pydata.org/pandas-docs/stable/user_guide/indexing.html#returning-a-view-versus-a-copy\n",
      "  self._setitem_single_column(loc, value[:, i].tolist(), pi)\n"
     ]
    }
   ],
   "source": [
    "df_test.loc[:, scale_columns] = scaler.transform(df_test[scale_columns].to_numpy())"
   ]
  },
  {
   "cell_type": "code",
   "execution_count": 36,
   "id": "dd05f036-74d8-443f-9478-9d5b3bce1be0",
   "metadata": {},
   "outputs": [],
   "source": [
    "# create a create_dataset function"
   ]
  },
  {
   "cell_type": "code",
   "execution_count": null,
   "id": "cf866705-95dd-4448-843f-a2546c186197",
   "metadata": {},
   "outputs": [],
   "source": []
  },
  {
   "cell_type": "code",
   "execution_count": 37,
   "id": "cefd5d25-a90f-4e61-9bd9-e49d8afac761",
   "metadata": {},
   "outputs": [],
   "source": [
    "def create_dataset(X, y, time_steps=1, step=1):\n",
    "    Xs, ys = [], []\n",
    "    for i in range(0, len(X) - time_steps, step):\n",
    "        v = X.iloc[i:(i + time_steps)].values\n",
    "        labels = y.iloc[i: i + time_steps]\n",
    "        Xs.append(v)\n",
    "        ys.append(stats.mode(labels)[0][0])\n",
    "    return np.array(Xs), np.array(ys).reshape(-1,1)"
   ]
  },
  {
   "cell_type": "code",
   "execution_count": 38,
   "id": "0c22fdea-9531-47e0-8a48-16ba358f2bf5",
   "metadata": {},
   "outputs": [],
   "source": [
    "# create the sequences"
   ]
  },
  {
   "cell_type": "code",
   "execution_count": 39,
   "id": "6da426b2-b182-44e7-bc1a-037571506aea",
   "metadata": {},
   "outputs": [],
   "source": [
    "TIME_STEPS = 200\n",
    "STEP = 40\n",
    "\n",
    "X_train, y_train = create_dataset(df_train[['x_axis','y_axis','z_axis']], df_train.activity, TIME_STEPS, STEP)\n",
    "\n",
    "X_test, y_test = create_dataset(df_test[['x_axis','y_axis','z_axis']], df_test.activity, TIME_STEPS, STEP)"
   ]
  },
  {
   "cell_type": "code",
   "execution_count": 40,
   "id": "57387336-e51f-4e5f-bf2e-ee1358fb8df2",
   "metadata": {},
   "outputs": [
    {
     "name": "stdout",
     "output_type": "stream",
     "text": [
      "(18643, 200, 3) (18643, 1)\n"
     ]
    }
   ],
   "source": [
    "print(X_train.shape,y_train.shape)\n",
    "#print(X_test.shape,y_test.shape)"
   ]
  },
  {
   "cell_type": "code",
   "execution_count": 41,
   "id": "b37ae6cc-e7bf-4ccc-b1ae-8f39d176d60a",
   "metadata": {},
   "outputs": [],
   "source": [
    "# OneHotEncoder - This encoding is needed for feeding categorical data to many scikit-lear estimators\n",
    "# for example, linear models, SVMs with the standard kernels"
   ]
  },
  {
   "cell_type": "code",
   "execution_count": null,
   "id": "95838c1b-df88-44b3-a9d7-833036ce3e01",
   "metadata": {},
   "outputs": [],
   "source": []
  },
  {
   "cell_type": "code",
   "execution_count": 42,
   "id": "05d093b3-0ea0-415c-bd87-ce66909b3a96",
   "metadata": {},
   "outputs": [],
   "source": [
    "enc = OneHotEncoder(handle_unknown='ignore', sparse=False)"
   ]
  },
  {
   "cell_type": "code",
   "execution_count": 43,
   "id": "c1969a1d-6883-4242-9190-da1529278ae7",
   "metadata": {},
   "outputs": [],
   "source": [
    "enc = enc.fit(y_train)"
   ]
  },
  {
   "cell_type": "code",
   "execution_count": 44,
   "id": "ab4376a2-bb6b-453c-a83d-4d85de1ec12c",
   "metadata": {},
   "outputs": [],
   "source": [
    "y_train = enc.transform(y_train)"
   ]
  },
  {
   "cell_type": "code",
   "execution_count": 45,
   "id": "32524fc3-4060-4518-9f5f-c187f2a860ae",
   "metadata": {},
   "outputs": [],
   "source": [
    "y_test = enc.transform(y_test)"
   ]
  },
  {
   "cell_type": "code",
   "execution_count": 46,
   "id": "68d558fe-10f5-4588-902b-09f11d2c9246",
   "metadata": {},
   "outputs": [],
   "source": [
    "# Apply the Model for Classifying Human Activity using LSTM model"
   ]
  },
  {
   "cell_type": "code",
   "execution_count": 47,
   "id": "0ad70828-bf65-4620-8286-27f6dea1950e",
   "metadata": {},
   "outputs": [],
   "source": [
    "from keras.models import Sequential\n",
    "from keras.layers import LSTM, Dense, Flatten, Dropout"
   ]
  },
  {
   "cell_type": "code",
   "execution_count": 48,
   "id": "b52b5d12-76aa-4d7a-8104-72aef70d1735",
   "metadata": {},
   "outputs": [],
   "source": [
    "model = keras.Sequential()\n",
    "\n",
    "model.add(LSTM(units=128, input_shape=(X_train.shape[1], X_train.shape[2])))\n",
    "\n",
    "model.add(Dropout(0.5))\n",
    "\n",
    "model.add(Dense(units=64, activation='relu'))\n",
    "\n",
    "model.add(Dense(y_train.shape[1], activation='softmax'))\n",
    "\n",
    "model.compile(loss='categorical_crossentropy',optimizer='adam',metrics=['accuracy'])"
   ]
  },
  {
   "cell_type": "code",
   "execution_count": 49,
   "id": "5c9f3889-9a5d-4ec2-88e8-70fec9b6d4a2",
   "metadata": {},
   "outputs": [
    {
     "name": "stdout",
     "output_type": "stream",
     "text": [
      "Model: \"sequential\"\n",
      "_________________________________________________________________\n",
      "Layer (type)                 Output Shape              Param #   \n",
      "=================================================================\n",
      "lstm (LSTM)                  (None, 128)               67584     \n",
      "_________________________________________________________________\n",
      "dropout (Dropout)            (None, 128)               0         \n",
      "_________________________________________________________________\n",
      "dense (Dense)                (None, 64)                8256      \n",
      "_________________________________________________________________\n",
      "dense_1 (Dense)              (None, 6)                 390       \n",
      "=================================================================\n",
      "Total params: 76,230\n",
      "Trainable params: 76,230\n",
      "Non-trainable params: 0\n",
      "_________________________________________________________________\n"
     ]
    }
   ],
   "source": [
    "model.summary()"
   ]
  },
  {
   "cell_type": "code",
   "execution_count": 50,
   "id": "45049df4-6402-47e7-9808-37d0168f2a6d",
   "metadata": {},
   "outputs": [
    {
     "name": "stdout",
     "output_type": "stream",
     "text": [
      "Epoch 1/20\n",
      "17/17 [==============================] - 118s 7s/step - loss: nan - accuracy: 0.1346 - val_loss: nan - val_accuracy: 0.0654\n",
      "Epoch 2/20\n",
      "17/17 [==============================] - 115s 7s/step - loss: nan - accuracy: 0.0884 - val_loss: nan - val_accuracy: 0.0654\n",
      "Epoch 3/20\n",
      "17/17 [==============================] - 133s 8s/step - loss: nan - accuracy: 0.0884 - val_loss: nan - val_accuracy: 0.0654\n",
      "Epoch 4/20\n",
      "17/17 [==============================] - 148s 9s/step - loss: nan - accuracy: 0.0884 - val_loss: nan - val_accuracy: 0.0654\n",
      "Epoch 5/20\n",
      "17/17 [==============================] - 146s 9s/step - loss: nan - accuracy: 0.0884 - val_loss: nan - val_accuracy: 0.0654\n",
      "Epoch 6/20\n",
      "17/17 [==============================] - 99s 6s/step - loss: nan - accuracy: 0.0884 - val_loss: nan - val_accuracy: 0.0654\n",
      "Epoch 7/20\n",
      "17/17 [==============================] - 42s 2s/step - loss: nan - accuracy: 0.0884 - val_loss: nan - val_accuracy: 0.0654\n",
      "Epoch 8/20\n",
      "17/17 [==============================] - 42s 2s/step - loss: nan - accuracy: 0.0884 - val_loss: nan - val_accuracy: 0.0654\n",
      "Epoch 9/20\n",
      "17/17 [==============================] - 42s 2s/step - loss: nan - accuracy: 0.0884 - val_loss: nan - val_accuracy: 0.0654\n",
      "Epoch 10/20\n",
      "17/17 [==============================] - 44s 3s/step - loss: nan - accuracy: 0.0884 - val_loss: nan - val_accuracy: 0.0654\n",
      "Epoch 11/20\n",
      "17/17 [==============================] - 45s 3s/step - loss: nan - accuracy: 0.0884 - val_loss: nan - val_accuracy: 0.0654\n",
      "Epoch 12/20\n",
      "17/17 [==============================] - 43s 3s/step - loss: nan - accuracy: 0.0884 - val_loss: nan - val_accuracy: 0.0654\n",
      "Epoch 13/20\n",
      "17/17 [==============================] - 45s 3s/step - loss: nan - accuracy: 0.0884 - val_loss: nan - val_accuracy: 0.0654\n",
      "Epoch 14/20\n",
      "17/17 [==============================] - 44s 3s/step - loss: nan - accuracy: 0.0884 - val_loss: nan - val_accuracy: 0.0654\n",
      "Epoch 15/20\n",
      "17/17 [==============================] - 43s 3s/step - loss: nan - accuracy: 0.0884 - val_loss: nan - val_accuracy: 0.0654\n",
      "Epoch 16/20\n",
      "17/17 [==============================] - 43s 3s/step - loss: nan - accuracy: 0.0884 - val_loss: nan - val_accuracy: 0.0654\n",
      "Epoch 17/20\n",
      "17/17 [==============================] - 44s 3s/step - loss: nan - accuracy: 0.0884 - val_loss: nan - val_accuracy: 0.0654\n",
      "Epoch 18/20\n",
      "17/17 [==============================] - 45s 3s/step - loss: nan - accuracy: 0.0884 - val_loss: nan - val_accuracy: 0.0654\n",
      "Epoch 19/20\n",
      "17/17 [==============================] - 44s 3s/step - loss: nan - accuracy: 0.0884 - val_loss: nan - val_accuracy: 0.0654\n",
      "Epoch 20/20\n",
      "17/17 [==============================] - 44s 3s/step - loss: nan - accuracy: 0.0884 - val_loss: nan - val_accuracy: 0.0654\n"
     ]
    }
   ],
   "source": [
    "# fit the model\n",
    "\n",
    "history = model.fit(X_train, y_train, epochs=20, batch_size=1024, validation_split=0.1, shuffle=False)"
   ]
  },
  {
   "cell_type": "code",
   "execution_count": 52,
   "id": "3de89c78-01bb-4271-8c5c-d51fd14886bc",
   "metadata": {},
   "outputs": [
    {
     "name": "stdout",
     "output_type": "stream",
     "text": [
      "9/9 [==============================] - 5s 541ms/step - loss: nan - accuracy: 0.1033\n",
      "Test Accuracy : 0.10326024889945984\n",
      "Test Loss : nan\n"
     ]
    }
   ],
   "source": [
    "loss, accuracy = model.evaluate(X_test, y_test, batch_size=1024, verbose=1)\n",
    "print(\"Test Accuracy :\", accuracy)\n",
    "print(\"Test Loss :\", loss)"
   ]
  },
  {
   "cell_type": "code",
   "execution_count": null,
   "id": "2991a55e-2753-429d-91c5-76254b7ec9ae",
   "metadata": {},
   "outputs": [],
   "source": [
    "model.evaluate(X_test, y_test)"
   ]
  },
  {
   "cell_type": "code",
   "execution_count": null,
   "id": "3db9cbe8-57bd-47c3-a2cf-546bc45fccd2",
   "metadata": {},
   "outputs": [],
   "source": [
    "y_pred = model.predict(X_test)"
   ]
  },
  {
   "cell_type": "code",
   "execution_count": null,
   "id": "02f36770-953f-4a1d-bde1-9cbcd208f052",
   "metadata": {},
   "outputs": [],
   "source": [
    "print(y_pred)"
   ]
  },
  {
   "cell_type": "code",
   "execution_count": 113,
   "id": "917fa87a-dd46-46bd-a0de-4b6f92db8bee",
   "metadata": {},
   "outputs": [
    {
     "name": "stdout",
     "output_type": "stream",
     "text": [
      "[[[-0.09578066  0.58467976  0.10201475]\n",
      "  [ 0.64827744  0.41704473  0.19300088]\n",
      "  [ 0.63407106  0.37191219 -0.01654293]\n",
      "  ...\n",
      "  [-0.85404511  1.22781811 -1.18557682]\n",
      "  [ 0.77435885  0.32677964  1.44199225]\n",
      "  [-0.07979851 -1.64132031 -1.84453704]]\n",
      "\n",
      " [[ 0.73351561 -0.46787496  0.10752906]\n",
      "  [ 0.02497339 -0.8257113   0.15440071]\n",
      "  [-0.63384658  1.40028876  1.65153603]\n",
      "  ...\n",
      "  [-0.15083031 -1.63164903 -2.00169474]\n",
      "  [-0.22008632  0.80228296  0.36394451]\n",
      "  [-0.33906458  0.12207148 -0.27020121]]\n",
      "\n",
      " [[ 0.04983452 -1.89438473 -1.48886389]\n",
      "  [-0.4704734   0.3799716  -0.16267217]\n",
      "  [-0.61431278  0.4718484   0.07720035]\n",
      "  ...\n",
      "  [-1.12396597 -0.0455636   0.86850397]\n",
      "  [ 0.05516191 -0.59843686  0.33361581]\n",
      "  [-0.65870769  1.38255799  1.73700789]]\n",
      "\n",
      " ...\n",
      "\n",
      " [[ 1.02346806 -0.35857988  0.19230769]\n",
      "  [ 1.01955671 -0.36331361  0.22672065]\n",
      "  [ 1.01434159 -0.37159763  0.19230769]\n",
      "  ...\n",
      "  [ 0.94263364 -0.24970414 -0.03846154]\n",
      "  [ 0.863103   -0.20828402 -0.05465587]\n",
      "  [ 0.78878748 -0.17278107 -0.03846154]]\n",
      "\n",
      " [[ 1.04432855 -0.36804734  0.21862348]\n",
      "  [ 1.03911343 -0.35384615  0.21862348]\n",
      "  [ 1.06388527 -0.39526627  0.21862348]\n",
      "  ...\n",
      "  [ 0.77444589 -0.16331361  0.53441296]\n",
      "  [ 0.81877445 -0.16331361  0.53441296]\n",
      "  [ 0.81877445 -0.16331361  0.53441296]]\n",
      "\n",
      " [[ 1.06388527 -0.39053254  0.14574899]\n",
      "  [ 1.05345502 -0.4035503   0.18421053]\n",
      "  [ 0.92829205 -0.3408284   0.19230769]\n",
      "  ...\n",
      "  [ 0.87874837 -0.2260355  -0.14574899]\n",
      "  [ 0.89308996 -0.1408284  -0.16194332]\n",
      "  [ 0.88396349 -0.14556213 -0.11538462]]]\n"
     ]
    }
   ],
   "source": []
  },
  {
   "cell_type": "code",
   "execution_count": null,
   "id": "1b6fb2ac-788e-4990-9f6b-b493f160dcd7",
   "metadata": {},
   "outputs": [],
   "source": [
    "from sklearn.metrics import confusion_matrix"
   ]
  },
  {
   "cell_type": "code",
   "execution_count": null,
   "id": "3567eafb-7498-4063-961a-1bf84be436cc",
   "metadata": {},
   "outputs": [],
   "source": [
    "# Confusion matrix\n",
    "\n",
    "predictions = model.predict(X_test)\n",
    "class_labels = ['Downstairs', 'Jogging', 'Sitting', 'Standing', 'Upstairs', 'Walking']\n",
    "max_test = np.argmax(y_test, axis=1)\n",
    "max_predictions = np.argmax(predictions, axis=1)\n",
    "confusion_matrix = metrics.confusion_matrix(max_test, max_predictions)\n",
    "sns.heatmap(confusion_matrix, xticklabels = class_labels, yticklabels = class_labels, annot = True, linewidths = 0.1, fmt='d', cmap = 'YlGnBu')\n",
    "plt.title(\"Confusion matrix\", fontsize = 15)\n",
    "plt.ylabel('True label')\n",
    "plt.xlabel('Predicted label')\n",
    "plt.show()"
   ]
  },
  {
   "cell_type": "code",
   "execution_count": null,
   "id": "aac8a718-3573-4960-a951-a2de450372a2",
   "metadata": {},
   "outputs": [],
   "source": []
  }
 ],
 "metadata": {
  "kernelspec": {
   "display_name": "Python 3",
   "language": "python",
   "name": "python3"
  },
  "language_info": {
   "codemirror_mode": {
    "name": "ipython",
    "version": 3
   },
   "file_extension": ".py",
   "mimetype": "text/x-python",
   "name": "python",
   "nbconvert_exporter": "python",
   "pygments_lexer": "ipython3",
   "version": "3.8.8"
  },
  "widgets": {
   "application/vnd.jupyter.widget-state+json": {
    "state": {},
    "version_major": 2,
    "version_minor": 0
   }
  }
 },
 "nbformat": 4,
 "nbformat_minor": 5
}
