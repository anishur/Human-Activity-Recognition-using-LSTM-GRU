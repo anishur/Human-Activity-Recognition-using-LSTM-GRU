{
 "cells": [
  {
   "cell_type": "code",
   "execution_count": 20,
   "id": "6356f931-2fb9-4140-86b2-1b4f261f1758",
   "metadata": {},
   "outputs": [],
   "source": [
    "import pandas as pd\n",
    "import numpy as np\n",
    "import re\n",
    "import matplotlib.pyplot as plt\n",
    "from tensorflow import keras \n",
    "from keras.models import Sequential\n",
    "from keras.layers import LSTM, GRU, Dense, Flatten, Dropout\n",
    "from scipy import stats\n",
    "from sklearn.preprocessing import OneHotEncoder\n",
    "from sklearn.preprocessing import RobustScaler\n",
    "import seaborn as sns\n",
    "import warnings\n",
    "warnings.filterwarnings('ignore')\n",
    "from sklearn.model_selection import train_test_split\n",
    "import sklearn.metrics as metrics"
   ]
  },
  {
   "cell_type": "code",
   "execution_count": 21,
   "id": "6978e2f6-3cf1-4952-ab53-b2ce6d3ee66f",
   "metadata": {},
   "outputs": [],
   "source": [
    "column_names = ['user_id','activity','timestamp','x_axis','y_axis','z_axis']"
   ]
  },
  {
   "cell_type": "code",
   "execution_count": 22,
   "id": "a940ec6f-b4d2-490f-81f9-8ed47b7b9f2f",
   "metadata": {},
   "outputs": [],
   "source": [
    "df = pd.read_csv('WISDM_ar_v1.1_raw.txt', header=None, names=column_names)"
   ]
  },
  {
   "cell_type": "code",
   "execution_count": 23,
   "id": "7e7a996c-85d5-4bff-825c-2be6f0f07522",
   "metadata": {},
   "outputs": [
    {
     "data": {
      "text/html": [
       "<div>\n",
       "<style scoped>\n",
       "    .dataframe tbody tr th:only-of-type {\n",
       "        vertical-align: middle;\n",
       "    }\n",
       "\n",
       "    .dataframe tbody tr th {\n",
       "        vertical-align: top;\n",
       "    }\n",
       "\n",
       "    .dataframe thead th {\n",
       "        text-align: right;\n",
       "    }\n",
       "</style>\n",
       "<table border=\"1\" class=\"dataframe\">\n",
       "  <thead>\n",
       "    <tr style=\"text-align: right;\">\n",
       "      <th></th>\n",
       "      <th>user_id</th>\n",
       "      <th>activity</th>\n",
       "      <th>timestamp</th>\n",
       "      <th>x_axis</th>\n",
       "      <th>y_axis</th>\n",
       "      <th>z_axis</th>\n",
       "    </tr>\n",
       "  </thead>\n",
       "  <tbody>\n",
       "    <tr>\n",
       "      <th>0</th>\n",
       "      <td>33</td>\n",
       "      <td>Jogging</td>\n",
       "      <td>49105962326000</td>\n",
       "      <td>-0.694638</td>\n",
       "      <td>12.680544</td>\n",
       "      <td>0.50395286;</td>\n",
       "    </tr>\n",
       "    <tr>\n",
       "      <th>1</th>\n",
       "      <td>33</td>\n",
       "      <td>Jogging</td>\n",
       "      <td>49106062271000</td>\n",
       "      <td>5.012288</td>\n",
       "      <td>11.264028</td>\n",
       "      <td>0.95342433;</td>\n",
       "    </tr>\n",
       "    <tr>\n",
       "      <th>2</th>\n",
       "      <td>33</td>\n",
       "      <td>Jogging</td>\n",
       "      <td>49106112167000</td>\n",
       "      <td>4.903325</td>\n",
       "      <td>10.882658</td>\n",
       "      <td>-0.08172209;</td>\n",
       "    </tr>\n",
       "    <tr>\n",
       "      <th>3</th>\n",
       "      <td>33</td>\n",
       "      <td>Jogging</td>\n",
       "      <td>49106222305000</td>\n",
       "      <td>-0.612916</td>\n",
       "      <td>18.496431</td>\n",
       "      <td>3.0237172;</td>\n",
       "    </tr>\n",
       "    <tr>\n",
       "      <th>4</th>\n",
       "      <td>33</td>\n",
       "      <td>Jogging</td>\n",
       "      <td>49106332290000</td>\n",
       "      <td>-1.184970</td>\n",
       "      <td>12.108489</td>\n",
       "      <td>7.205164;</td>\n",
       "    </tr>\n",
       "    <tr>\n",
       "      <th>5</th>\n",
       "      <td>33</td>\n",
       "      <td>Jogging</td>\n",
       "      <td>49106442306000</td>\n",
       "      <td>1.375655</td>\n",
       "      <td>-2.492524</td>\n",
       "      <td>-6.510526;</td>\n",
       "    </tr>\n",
       "    <tr>\n",
       "      <th>6</th>\n",
       "      <td>33</td>\n",
       "      <td>Jogging</td>\n",
       "      <td>49106542312000</td>\n",
       "      <td>-0.612916</td>\n",
       "      <td>10.569390</td>\n",
       "      <td>5.706926;</td>\n",
       "    </tr>\n",
       "    <tr>\n",
       "      <th>7</th>\n",
       "      <td>33</td>\n",
       "      <td>Jogging</td>\n",
       "      <td>49106652389000</td>\n",
       "      <td>-0.503953</td>\n",
       "      <td>13.947236</td>\n",
       "      <td>7.0553403;</td>\n",
       "    </tr>\n",
       "    <tr>\n",
       "      <th>8</th>\n",
       "      <td>33</td>\n",
       "      <td>Jogging</td>\n",
       "      <td>49106762313000</td>\n",
       "      <td>-8.430995</td>\n",
       "      <td>11.413852</td>\n",
       "      <td>5.134871;</td>\n",
       "    </tr>\n",
       "    <tr>\n",
       "      <th>9</th>\n",
       "      <td>33</td>\n",
       "      <td>Jogging</td>\n",
       "      <td>49106872299000</td>\n",
       "      <td>0.953424</td>\n",
       "      <td>1.375655</td>\n",
       "      <td>1.6480621;</td>\n",
       "    </tr>\n",
       "    <tr>\n",
       "      <th>10</th>\n",
       "      <td>33</td>\n",
       "      <td>Jogging</td>\n",
       "      <td>49106982315000</td>\n",
       "      <td>-8.199450</td>\n",
       "      <td>19.572440</td>\n",
       "      <td>2.7240696;</td>\n",
       "    </tr>\n",
       "  </tbody>\n",
       "</table>\n",
       "</div>"
      ],
      "text/plain": [
       "    user_id activity       timestamp    x_axis     y_axis        z_axis\n",
       "0        33  Jogging  49105962326000 -0.694638  12.680544   0.50395286;\n",
       "1        33  Jogging  49106062271000  5.012288  11.264028   0.95342433;\n",
       "2        33  Jogging  49106112167000  4.903325  10.882658  -0.08172209;\n",
       "3        33  Jogging  49106222305000 -0.612916  18.496431    3.0237172;\n",
       "4        33  Jogging  49106332290000 -1.184970  12.108489     7.205164;\n",
       "5        33  Jogging  49106442306000  1.375655  -2.492524    -6.510526;\n",
       "6        33  Jogging  49106542312000 -0.612916  10.569390     5.706926;\n",
       "7        33  Jogging  49106652389000 -0.503953  13.947236    7.0553403;\n",
       "8        33  Jogging  49106762313000 -8.430995  11.413852     5.134871;\n",
       "9        33  Jogging  49106872299000  0.953424   1.375655    1.6480621;\n",
       "10       33  Jogging  49106982315000 -8.199450  19.572440    2.7240696;"
      ]
     },
     "execution_count": 23,
     "metadata": {},
     "output_type": "execute_result"
    }
   ],
   "source": [
    "df.head(11)"
   ]
  },
  {
   "cell_type": "code",
   "execution_count": 24,
   "id": "13f202db-14e7-446d-a656-d62400fb9d30",
   "metadata": {},
   "outputs": [
    {
     "data": {
      "text/plain": [
       "(1098203, 6)"
      ]
     },
     "execution_count": 24,
     "metadata": {},
     "output_type": "execute_result"
    }
   ],
   "source": [
    "# removing null values\n",
    "\n",
    "df = df.dropna()\n",
    "df.shape"
   ]
  },
  {
   "cell_type": "code",
   "execution_count": 25,
   "id": "3995e235-f2a8-47d6-a7e3-1c278064e11c",
   "metadata": {},
   "outputs": [],
   "source": [
    "# processing z-axis values - removing ; from the value\n",
    "\n",
    "df['z_axis'] = df['z_axis'].str.replace(';','')\n",
    "df['z_axis'] = df['z_axis'].apply(lambda x:float(x))"
   ]
  },
  {
   "cell_type": "code",
   "execution_count": 26,
   "id": "ae4b1374-ec79-4e1d-8dea-86a671a1e7d3",
   "metadata": {},
   "outputs": [],
   "source": [
    "# drop rows where timestamp is 0\n",
    "\n",
    "df = df[df['timestamp'] !=0]"
   ]
  },
  {
   "cell_type": "code",
   "execution_count": 27,
   "id": "d3571ef6-67cd-4be9-aa03-bcb2ac7d3000",
   "metadata": {},
   "outputs": [],
   "source": [
    "# arrange data in ascending order of user and timestamp\n",
    "\n",
    "df = df.sort_values(by=['user_id','timestamp'],ignore_index=True)"
   ]
  },
  {
   "cell_type": "code",
   "execution_count": 28,
   "id": "072fef22-2b5d-402d-966b-5d59eafcc7da",
   "metadata": {},
   "outputs": [
    {
     "data": {
      "text/html": [
       "<div>\n",
       "<style scoped>\n",
       "    .dataframe tbody tr th:only-of-type {\n",
       "        vertical-align: middle;\n",
       "    }\n",
       "\n",
       "    .dataframe tbody tr th {\n",
       "        vertical-align: top;\n",
       "    }\n",
       "\n",
       "    .dataframe thead th {\n",
       "        text-align: right;\n",
       "    }\n",
       "</style>\n",
       "<table border=\"1\" class=\"dataframe\">\n",
       "  <thead>\n",
       "    <tr style=\"text-align: right;\">\n",
       "      <th></th>\n",
       "      <th>user_id</th>\n",
       "      <th>activity</th>\n",
       "      <th>timestamp</th>\n",
       "      <th>x_axis</th>\n",
       "      <th>y_axis</th>\n",
       "      <th>z_axis</th>\n",
       "    </tr>\n",
       "  </thead>\n",
       "  <tbody>\n",
       "    <tr>\n",
       "      <th>0</th>\n",
       "      <td>1</td>\n",
       "      <td>Walking</td>\n",
       "      <td>4991922345000</td>\n",
       "      <td>0.69</td>\n",
       "      <td>10.80</td>\n",
       "      <td>-2.03</td>\n",
       "    </tr>\n",
       "    <tr>\n",
       "      <th>1</th>\n",
       "      <td>1</td>\n",
       "      <td>Walking</td>\n",
       "      <td>4991972333000</td>\n",
       "      <td>6.85</td>\n",
       "      <td>7.44</td>\n",
       "      <td>-0.50</td>\n",
       "    </tr>\n",
       "    <tr>\n",
       "      <th>2</th>\n",
       "      <td>1</td>\n",
       "      <td>Walking</td>\n",
       "      <td>4992022351000</td>\n",
       "      <td>0.93</td>\n",
       "      <td>5.63</td>\n",
       "      <td>-0.50</td>\n",
       "    </tr>\n",
       "    <tr>\n",
       "      <th>3</th>\n",
       "      <td>1</td>\n",
       "      <td>Walking</td>\n",
       "      <td>4992072339000</td>\n",
       "      <td>-2.11</td>\n",
       "      <td>5.01</td>\n",
       "      <td>-0.69</td>\n",
       "    </tr>\n",
       "    <tr>\n",
       "      <th>4</th>\n",
       "      <td>1</td>\n",
       "      <td>Walking</td>\n",
       "      <td>4992122358000</td>\n",
       "      <td>-4.59</td>\n",
       "      <td>4.29</td>\n",
       "      <td>-1.95</td>\n",
       "    </tr>\n",
       "  </tbody>\n",
       "</table>\n",
       "</div>"
      ],
      "text/plain": [
       "   user_id activity      timestamp  x_axis  y_axis  z_axis\n",
       "0        1  Walking  4991922345000    0.69   10.80   -2.03\n",
       "1        1  Walking  4991972333000    6.85    7.44   -0.50\n",
       "2        1  Walking  4992022351000    0.93    5.63   -0.50\n",
       "3        1  Walking  4992072339000   -2.11    5.01   -0.69\n",
       "4        1  Walking  4992122358000   -4.59    4.29   -1.95"
      ]
     },
     "execution_count": 28,
     "metadata": {},
     "output_type": "execute_result"
    }
   ],
   "source": [
    "df.head()"
   ]
  },
  {
   "cell_type": "code",
   "execution_count": 29,
   "id": "d8522f31-9121-400c-b23b-139dd3692b29",
   "metadata": {},
   "outputs": [
    {
     "data": {
      "image/png": "[encoded data removed]",
      "text/plain": [
       "<Figure size 432x288 with 1 Axes>"
      ]
     },
     "metadata": {},
     "output_type": "display_data"
    }
   ],
   "source": [
    "sns.set_style(\"whitegrid\")\n",
    "sns.countplot(x = 'activity', data = df)\n",
    "plt.title('Human Activity Recognition')\n",
    "plt.show()"
   ]
  },
  {
   "cell_type": "code",
   "execution_count": 30,
   "id": "ce668314-8442-40df-b22b-db4f31239c51",
   "metadata": {},
   "outputs": [
    {
     "data": {
      "image/png": "[encoded data removed]",
      "text/plain": [
       "<Figure size 1008x576 with 1 Axes>"
      ]
     },
     "metadata": {},
     "output_type": "display_data"
    }
   ],
   "source": [
    "ax = df.groupby(['user_id'])['user_id'].count().plot.bar(title=\"Human Activity Recognition\", ylabel='Counts: per user_id activity occurs',figsize=(14,8))"
   ]
  },
  {
   "cell_type": "code",
   "execution_count": 11,
   "id": "832b60f8-8042-4558-baf8-08432a4d693b",
   "metadata": {},
   "outputs": [],
   "source": [
    "random_seed = 42\n",
    "n_time_steps = 50\n",
    "n_features = 3\n",
    "step = 10\n",
    "n_classes = 6\n",
    "n_epochs = 50\n",
    "batch_size = 1024\n",
    "learning_rate = 0.0025\n",
    "l2_loss = 0.0015"
   ]
  },
  {
   "cell_type": "code",
   "execution_count": 12,
   "id": "2ea08b26-0bdd-4cf9-990d-d8d0097b38e6",
   "metadata": {},
   "outputs": [],
   "source": [
    "segments = []\n",
    "labels = []\n",
    "\n",
    "for i in range(0, df.shape[0] - n_time_steps, step):\n",
    "    \n",
    "    xs = df['x_axis'].values[i: i + 50]\n",
    "    ys = df['y_axis'].values[i: i + 50]\n",
    "    zs = df['z_axis'].values[i: i + 50]\n",
    "    \n",
    "    label = stats.mode(df['activity'][i: i + 50])[0][0]\n",
    "    \n",
    "    segments.append([xs,ys,zs])\n",
    "    \n",
    "    labels.append(label)\n",
    "\n",
    "# reshape the segments which is(list of arrays) to a list\n",
    "\n",
    "reshaped_segments = np.asarray(segments, dtype = np.float32).reshape(-1, n_time_steps, n_features)\n",
    "\n",
    "labels = np.asarray(pd.get_dummies(labels), dtype=np.float32)"
   ]
  },
  {
   "cell_type": "code",
   "execution_count": 13,
   "id": "0d454527-663e-44c8-a24a-a135ba1f9e88",
   "metadata": {},
   "outputs": [
    {
     "data": {
      "text/plain": [
       "(108531, 50, 3)"
      ]
     },
     "execution_count": 13,
     "metadata": {},
     "output_type": "execute_result"
    }
   ],
   "source": [
    "reshaped_segments.shape"
   ]
  },
  {
   "cell_type": "code",
   "execution_count": 14,
   "id": "37c17655-e7a1-47d8-884a-1634456c0113",
   "metadata": {},
   "outputs": [],
   "source": [
    "X_train, X_test, y_train, y_test = train_test_split(reshaped_segments, labels, test_size=0.2, random_state=random_seed)"
   ]
  },
  {
   "cell_type": "code",
   "execution_count": 15,
   "id": "4bb83727-0f3b-4b33-91d4-5d6b14070255",
   "metadata": {},
   "outputs": [],
   "source": [
    "# Building Model Architecture\n",
    "\n",
    "model = Sequential()\n",
    "\n",
    "# RNN layer\n",
    "\n",
    "#model.add(LSTM(units=128, input_shape=(X_train.shape[1],X_train.shape[2] )))\n",
    "\n",
    "model.add(GRU(units=128, input_shape=(X_train.shape[1],X_train.shape[2] )))\n",
    "\n",
    "# Dropout layer\n",
    "\n",
    "model.add(Dropout(0.5))\n",
    "\n",
    "# Dense layer with ReLu\n",
    "\n",
    "model.add(Dense(units=64, activation='relu'))\n",
    "\n",
    "# Softmax layer\n",
    "\n",
    "model.add(Dense(y_train.shape[1], activation='softmax'))\n",
    "\n",
    "# Compile model\n",
    "\n",
    "model.compile(loss='categorical_crossentropy', optimizer='adam', metrics=['accuracy'])\n",
    "\n"
   ]
  },
  {
   "cell_type": "code",
   "execution_count": 16,
   "id": "79b59b01-eabc-41dd-8b61-f6dfa5f2c000",
   "metadata": {},
   "outputs": [
    {
     "name": "stdout",
     "output_type": "stream",
     "text": [
      "Model: \"sequential\"\n",
      "_________________________________________________________________\n",
      "Layer (type)                 Output Shape              Param #   \n",
      "=================================================================\n",
      "gru (GRU)                    (None, 128)               51072     \n",
      "_________________________________________________________________\n",
      "dropout (Dropout)            (None, 128)               0         \n",
      "_________________________________________________________________\n",
      "dense (Dense)                (None, 64)                8256      \n",
      "_________________________________________________________________\n",
      "dense_1 (Dense)              (None, 6)                 390       \n",
      "=================================================================\n",
      "Total params: 59,718\n",
      "Trainable params: 59,718\n",
      "Non-trainable params: 0\n",
      "_________________________________________________________________\n"
     ]
    }
   ],
   "source": [
    "model.summary()"
   ]
  },
  {
   "cell_type": "code",
   "execution_count": 17,
   "id": "c4744f57-f9f5-41bd-9ef9-0a87ed1ab419",
   "metadata": {},
   "outputs": [
    {
     "name": "stdout",
     "output_type": "stream",
     "text": [
      "Epoch 1/50\n",
      "68/68 [==============================] - 65s 924ms/step - loss: 1.1313 - accuracy: 0.5472 - val_loss: 0.6150 - val_accuracy: 0.7873\n",
      "Epoch 2/50\n",
      "68/68 [==============================] - 70s 1s/step - loss: 0.5449 - accuracy: 0.8082 - val_loss: 0.4879 - val_accuracy: 0.8233\n",
      "Epoch 3/50\n",
      "68/68 [==============================] - 65s 955ms/step - loss: 0.4767 - accuracy: 0.8287 - val_loss: 0.4482 - val_accuracy: 0.8354\n",
      "Epoch 4/50\n",
      "68/68 [==============================] - 67s 983ms/step - loss: 0.4253 - accuracy: 0.8456 - val_loss: 0.3962 - val_accuracy: 0.8522\n",
      "Epoch 5/50\n",
      "68/68 [==============================] - 68s 1s/step - loss: 0.3803 - accuracy: 0.8620 - val_loss: 0.3520 - val_accuracy: 0.8685\n",
      "Epoch 6/50\n",
      "68/68 [==============================] - 69s 1s/step - loss: 0.3441 - accuracy: 0.8763 - val_loss: 0.3128 - val_accuracy: 0.8879\n",
      "Epoch 7/50\n",
      "68/68 [==============================] - 72s 1s/step - loss: 0.3058 - accuracy: 0.8918 - val_loss: 0.2942 - val_accuracy: 0.8982\n",
      "Epoch 8/50\n",
      "68/68 [==============================] - 72s 1s/step - loss: 0.2710 - accuracy: 0.9067 - val_loss: 0.2603 - val_accuracy: 0.9103\n",
      "Epoch 9/50\n",
      "68/68 [==============================] - 75s 1s/step - loss: 0.2464 - accuracy: 0.9154 - val_loss: 0.2337 - val_accuracy: 0.9185\n",
      "Epoch 10/50\n",
      "68/68 [==============================] - 76s 1s/step - loss: 0.2281 - accuracy: 0.9235 - val_loss: 0.2223 - val_accuracy: 0.9212\n",
      "Epoch 11/50\n",
      "68/68 [==============================] - 78s 1s/step - loss: 0.2098 - accuracy: 0.9311 - val_loss: 0.2063 - val_accuracy: 0.9296\n",
      "Epoch 12/50\n",
      "68/68 [==============================] - 78s 1s/step - loss: 0.2004 - accuracy: 0.9345 - val_loss: 0.2010 - val_accuracy: 0.9338\n",
      "Epoch 13/50\n",
      "68/68 [==============================] - 79s 1s/step - loss: 0.1918 - accuracy: 0.9371 - val_loss: 0.1895 - val_accuracy: 0.9377\n",
      "Epoch 14/50\n",
      "68/68 [==============================] - 81s 1s/step - loss: 0.1789 - accuracy: 0.9412 - val_loss: 0.1870 - val_accuracy: 0.9387\n",
      "Epoch 15/50\n",
      "68/68 [==============================] - 81s 1s/step - loss: 0.1749 - accuracy: 0.9439 - val_loss: 0.1822 - val_accuracy: 0.9403\n",
      "Epoch 16/50\n",
      "68/68 [==============================] - 82s 1s/step - loss: 0.1684 - accuracy: 0.9450 - val_loss: 0.1899 - val_accuracy: 0.9341\n",
      "Epoch 17/50\n",
      "68/68 [==============================] - 83s 1s/step - loss: 0.1638 - accuracy: 0.9466 - val_loss: 0.2038 - val_accuracy: 0.9308\n",
      "Epoch 18/50\n",
      "68/68 [==============================] - 83s 1s/step - loss: 0.1617 - accuracy: 0.9469 - val_loss: 0.1661 - val_accuracy: 0.9458\n",
      "Epoch 19/50\n",
      "68/68 [==============================] - 84s 1s/step - loss: 0.1470 - accuracy: 0.9525 - val_loss: 0.1614 - val_accuracy: 0.9456\n",
      "Epoch 20/50\n",
      "68/68 [==============================] - 85s 1s/step - loss: 0.1435 - accuracy: 0.9529 - val_loss: 0.1627 - val_accuracy: 0.9486\n",
      "Epoch 21/50\n",
      "68/68 [==============================] - 84s 1s/step - loss: 0.1413 - accuracy: 0.9533 - val_loss: 0.1567 - val_accuracy: 0.9453\n",
      "Epoch 22/50\n",
      "68/68 [==============================] - 85s 1s/step - loss: 0.1389 - accuracy: 0.9538 - val_loss: 0.1550 - val_accuracy: 0.9459\n",
      "Epoch 23/50\n",
      "68/68 [==============================] - 85s 1s/step - loss: 0.1345 - accuracy: 0.9554 - val_loss: 0.1481 - val_accuracy: 0.9491\n",
      "Epoch 24/50\n",
      "68/68 [==============================] - 86s 1s/step - loss: 0.1258 - accuracy: 0.9582 - val_loss: 0.1742 - val_accuracy: 0.9475\n",
      "Epoch 25/50\n",
      "68/68 [==============================] - 86s 1s/step - loss: 0.1272 - accuracy: 0.9582 - val_loss: 0.1438 - val_accuracy: 0.9544\n",
      "Epoch 26/50\n",
      "68/68 [==============================] - 86s 1s/step - loss: 0.1178 - accuracy: 0.9611 - val_loss: 0.1399 - val_accuracy: 0.9536\n",
      "Epoch 27/50\n",
      "68/68 [==============================] - 87s 1s/step - loss: 0.1143 - accuracy: 0.9627 - val_loss: 0.1383 - val_accuracy: 0.9537\n",
      "Epoch 28/50\n",
      "68/68 [==============================] - 87s 1s/step - loss: 0.1119 - accuracy: 0.9630 - val_loss: 0.1311 - val_accuracy: 0.9578\n",
      "Epoch 29/50\n",
      "68/68 [==============================] - 87s 1s/step - loss: 0.1066 - accuracy: 0.9650 - val_loss: 0.1562 - val_accuracy: 0.9531\n",
      "Epoch 30/50\n",
      "68/68 [==============================] - 87s 1s/step - loss: 0.1043 - accuracy: 0.9663 - val_loss: 0.1276 - val_accuracy: 0.9592\n",
      "Epoch 31/50\n",
      "68/68 [==============================] - 88s 1s/step - loss: 0.0993 - accuracy: 0.9677 - val_loss: 0.1331 - val_accuracy: 0.9561\n",
      "Epoch 32/50\n",
      "68/68 [==============================] - 88s 1s/step - loss: 0.0983 - accuracy: 0.9683 - val_loss: 0.1247 - val_accuracy: 0.9606\n",
      "Epoch 33/50\n",
      "68/68 [==============================] - 88s 1s/step - loss: 0.0944 - accuracy: 0.9695 - val_loss: 0.1347 - val_accuracy: 0.9599\n",
      "Epoch 34/50\n",
      "68/68 [==============================] - 88s 1s/step - loss: 0.0976 - accuracy: 0.9683 - val_loss: 0.1294 - val_accuracy: 0.9571\n",
      "Epoch 35/50\n",
      "68/68 [==============================] - 89s 1s/step - loss: 0.0916 - accuracy: 0.9705 - val_loss: 0.1232 - val_accuracy: 0.9611\n",
      "Epoch 36/50\n",
      "68/68 [==============================] - 89s 1s/step - loss: 0.0890 - accuracy: 0.9714 - val_loss: 0.1202 - val_accuracy: 0.9630\n",
      "Epoch 37/50\n",
      "68/68 [==============================] - 89s 1s/step - loss: 0.0899 - accuracy: 0.9708 - val_loss: 0.1269 - val_accuracy: 0.9611\n",
      "Epoch 38/50\n",
      "68/68 [==============================] - 89s 1s/step - loss: 0.0830 - accuracy: 0.9727 - val_loss: 0.1207 - val_accuracy: 0.9629\n",
      "Epoch 39/50\n",
      "68/68 [==============================] - 89s 1s/step - loss: 0.0813 - accuracy: 0.9742 - val_loss: 0.1242 - val_accuracy: 0.9631\n",
      "Epoch 40/50\n",
      "68/68 [==============================] - 89s 1s/step - loss: 0.0780 - accuracy: 0.9754 - val_loss: 0.1239 - val_accuracy: 0.9625\n",
      "Epoch 41/50\n",
      "68/68 [==============================] - 90s 1s/step - loss: 0.0801 - accuracy: 0.9749 - val_loss: 0.1196 - val_accuracy: 0.9633\n",
      "Epoch 42/50\n",
      "68/68 [==============================] - 90s 1s/step - loss: 0.0730 - accuracy: 0.9770 - val_loss: 0.1288 - val_accuracy: 0.9613\n",
      "Epoch 43/50\n",
      "68/68 [==============================] - 92s 1s/step - loss: 0.0741 - accuracy: 0.9767 - val_loss: 0.1242 - val_accuracy: 0.9628\n",
      "Epoch 44/50\n",
      "68/68 [==============================] - 91s 1s/step - loss: 0.0730 - accuracy: 0.9767 - val_loss: 0.1163 - val_accuracy: 0.9642\n",
      "Epoch 45/50\n",
      "68/68 [==============================] - 91s 1s/step - loss: 0.0666 - accuracy: 0.9793 - val_loss: 0.1240 - val_accuracy: 0.9646\n",
      "Epoch 46/50\n",
      "68/68 [==============================] - 91s 1s/step - loss: 0.0652 - accuracy: 0.9793 - val_loss: 0.1376 - val_accuracy: 0.9627\n",
      "Epoch 47/50\n",
      "68/68 [==============================] - 92s 1s/step - loss: 0.0714 - accuracy: 0.9772 - val_loss: 0.1169 - val_accuracy: 0.9655\n",
      "Epoch 48/50\n",
      "68/68 [==============================] - 93s 1s/step - loss: 0.0639 - accuracy: 0.9800 - val_loss: 0.1330 - val_accuracy: 0.9652\n",
      "Epoch 49/50\n",
      "68/68 [==============================] - 92s 1s/step - loss: 0.0599 - accuracy: 0.9813 - val_loss: 0.1211 - val_accuracy: 0.9656\n",
      "Epoch 50/50\n",
      "68/68 [==============================] - 93s 1s/step - loss: 0.0597 - accuracy: 0.9815 - val_loss: 0.1146 - val_accuracy: 0.9667\n"
     ]
    }
   ],
   "source": [
    "history = model.fit(X_train, y_train, epochs=n_epochs, validation_split=0.2, batch_size=batch_size, verbose=1)"
   ]
  },
  {
   "cell_type": "code",
   "execution_count": 18,
   "id": "09c09ec6-ea9b-4352-bd62-778c33cd8eeb",
   "metadata": {},
   "outputs": [
    {
     "name": "stdout",
     "output_type": "stream",
     "text": [
      "22/22 [==============================] - 9s 429ms/step - loss: 0.1176 - accuracy: 0.9671\n",
      "Test Accuracy : 0.967107355594635\n",
      "Test Loss : 0.11759328097105026\n"
     ]
    }
   ],
   "source": [
    "loss, accuracy = model.evaluate(X_test, y_test, batch_size=batch_size,verbose=1)\n",
    "print(\"Test Accuracy :\", accuracy)\n",
    "print(\"Test Loss :\", loss)"
   ]
  },
  {
   "cell_type": "code",
   "execution_count": 19,
   "id": "fd540fee-4c23-4a8d-bfdf-9dd3f9273823",
   "metadata": {},
   "outputs": [
    {
     "data": {
      "image/png": "[encoded data removed]",
      "text/plain": [
       "<Figure size 432x288 with 2 Axes>"
      ]
     },
     "metadata": {},
     "output_type": "display_data"
    }
   ],
   "source": [
    "# Confusion matrix\n",
    "import sklearn.metrics as metrics\n",
    "\n",
    "predictions = model.predict(X_test)\n",
    "class_labels = ['Downstairs','Jogging','Sitting','Standing','Upstairs','Walking']\n",
    "max_test = np.argmax(y_test, axis=1)\n",
    "max_predictions = np.argmax(predictions, axis=1)\n",
    "confusion_matrix = metrics.confusion_matrix(max_test, max_predictions)\n",
    "sns.heatmap(confusion_matrix, xticklabels=class_labels, yticklabels=class_labels, annot=True,linewidths=0.1,fmt='d', cmap='YlGnBu')\n",
    "plt.title(\"Confusion matrix\", fontsize=15)\n",
    "plt.ylabel('True label')\n",
    "plt.xlabel('Predicted label')\n",
    "plt.show()"
   ]
  },
  {
   "cell_type": "code",
   "execution_count": null,
   "id": "8b0296b1-c53d-440f-8e04-cfab01f3232d",
   "metadata": {},
   "outputs": [],
   "source": []
  },
  {
   "cell_type": "code",
   "execution_count": null,
   "id": "fade8924-e87b-4d75-bae9-9c3a8cc91d2d",
   "metadata": {},
   "outputs": [],
   "source": []
  },
  {
   "cell_type": "code",
   "execution_count": null,
   "id": "6093067c-9186-4a72-98ac-1dc1cb7602da",
   "metadata": {},
   "outputs": [],
   "source": []
  },
  {
   "cell_type": "code",
   "execution_count": null,
   "id": "660dd4f7-96df-4541-9351-c8eb27578e0f",
   "metadata": {},
   "outputs": [],
   "source": []
  }
 ],
 "metadata": {
  "kernelspec": {
   "display_name": "Python 3",
   "language": "python",
   "name": "python3"
  },
  "language_info": {
   "codemirror_mode": {
    "name": "ipython",
    "version": 3
   },
   "file_extension": ".py",
   "mimetype": "text/x-python",
   "name": "python",
   "nbconvert_exporter": "python",
   "pygments_lexer": "ipython3",
   "version": "3.8.8"
  },
  "widgets": {
   "application/vnd.jupyter.widget-state+json": {
    "state": {},
    "version_major": 2,
    "version_minor": 0
   }
  }
 },
 "nbformat": 4,
 "nbformat_minor": 5
}
